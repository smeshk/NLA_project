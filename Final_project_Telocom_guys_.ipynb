{
  "nbformat": 4,
  "nbformat_minor": 0,
  "metadata": {
    "kernelspec": {
      "display_name": "Python 3",
      "language": "python",
      "name": "python3"
    },
    "language_info": {
      "codemirror_mode": {
        "name": "ipython",
        "version": 3
      },
      "file_extension": ".py",
      "mimetype": "text/x-python",
      "name": "python",
      "nbconvert_exporter": "python",
      "pygments_lexer": "ipython3",
      "version": "3.7.3"
    },
    "colab": {
      "name": "Final_project_Telocom_guys.ipynb",
      "provenance": [],
      "collapsed_sections": []
    }
  },
  "cells": [
    {
      "cell_type": "markdown",
      "metadata": {
        "id": "lpwGV_QTCnRx"
      },
      "source": [
        "# Final project: Compressed sensing decoder\n",
        "\n",
        "#### Telecom guys: Avdotin Evgeny, Smeshko Anastasiia, Daria Ustinova\n"
      ]
    },
    {
      "cell_type": "markdown",
      "metadata": {
        "id": "T0fCPlcJr0XI"
      },
      "source": [
        "# 1. Problem statement"
      ]
    },
    {
      "cell_type": "markdown",
      "metadata": {
        "id": "wLFSNYjrCnR4"
      },
      "source": [
        "We consider a wireless network that is composed of  $K_{a}$ active users. Every active user wishes to transmit $B$ bits of information to the base station. The number of resources (channel) uses in this process is $N$ and they are split into $V$ slots. Denote the set of $B$-bit messages which corresponds to the set of active users as $\\mathbf{W}={\\{ w_{1},...,w_{K_{a}}\\}}$. Users encode the message index $w_{i}$ into a codeword of length $n$, which after binary phase-shift keying (BPSK) modulation belongs to the alphabet $\\{1,-1\\}$ (${x}_{w_{i}} \\in \\{1,-1\\}$).\n",
        "\n",
        "Denote the $\\mathcal{N}_{j}$ set of users, who transmit to the $j-$th slot, $j=1,\\ldots,V$. Then in each slot we'll receive:\n",
        "$$\n",
        "    \\mathbf{y}_{j}=\\sum_{i\\in\\mathcal{N}_{j}}{\\mathbf{x}_{w_{i}}}+\\mathbf{z}_{j},\n",
        "$$\n",
        "where $\\mathbf{x}_{w_{j}}$ is BPSK modulated codeword transmitted by the $i$-th user and $\\mathbf{z}_{j} \\sim \\mathcal{N}(\\mathbf{0}, \\sigma^2)$ is an additive Gaussian noise (AWGN)."
      ]
    },
    {
      "cell_type": "markdown",
      "metadata": {
        "id": "ULvIB78bCnR5"
      },
      "source": [
        "Thus, in slot we receive the sum of $|\\mathcal{N}_{j}|=T$ messages and want to determine each $x_{w_{i}}$. We can represent this sum as a multiplication of matrix $A$ and sparse vector $b_{j}$:\n",
        "\n",
        "$$\n",
        "\\mathbf{y}_{j} = A b_{j} + \\mathbf{z}_{j},\n",
        "$$\n",
        "where we consider matrix $A_{n*m}$ - matrix with all possible modulated codewords as columns, $b_{j}$ - activity vector with exactly $T$ ones (on transmitted codewords places) and other zeros.\n",
        "\n",
        "Consequently, our decoding task can be reduced to searching the right active vector (among all vectors with $T$ ones):\n",
        "\n",
        "$$\n",
        "\\hat{b} = argmin_{b_j}||A b_j - \\mathbf{y}_{j} ||\n",
        "$$\n",
        "\n",
        "- If we consider $||.||_{1}$, this problem could be interpreted as compressed sensing problem\n",
        "\n",
        "- If we consider $||.||_{2}$, this is non-negative least squares problem (NNLS), or bounded-variable least squares (BVLS), because we have rectrictions for vector $b_j$."
      ]
    },
    {
      "cell_type": "markdown",
      "metadata": {
        "id": "MvSX_f45CnR6"
      },
      "source": [
        "# 2. Sensing matrix construction"
      ]
    },
    {
      "cell_type": "code",
      "metadata": {
        "id": "2J2HqFIBCnR6"
      },
      "source": [
        "import numpy as np\r\n",
        "import random\r\n",
        "import scipy\r\n",
        "from scipy.optimize import nnls\r\n",
        "import math\r\n",
        "from heapq import nlargest"
      ],
      "execution_count": null,
      "outputs": []
    },
    {
      "cell_type": "code",
      "metadata": {
        "id": "zNSgVLOQCnR7"
      },
      "source": [
        "# specify some parameters\n",
        "k = 3 #number of information bits\n",
        "n = 7 #length of codeword\n",
        "T = 2 #number of users in slot\n",
        "\n",
        "SNR_array = np.arange(-8,5)\n",
        "\n",
        "\n",
        "#generate information symbols - all possible vectors with length k on alphabet 2**K\n",
        "\n",
        "def get_info_vectors(q,k):\n",
        "    temp = np.array([np.arange(q**k)]) # numbers from 0 to q**k-1\n",
        "    info = temp%q\n",
        "    temp = np.floor(temp/q)\n",
        "    for i in range(1,k):\n",
        "        info = np.concatenate((temp%q,info),axis=0)\n",
        "        temp = np.floor(temp/q)\n",
        "    return info\n",
        "\n",
        "C = get_info_vectors(2**k,k).T\n",
        "\n",
        "#Kautz - Singleton encoding (this only for q-ary codes) \n",
        "\n",
        "C_KS = np.zeros(((2**k)**k,k*2**k))\n",
        "vector = np.zeros((1,2**k))\n",
        "vector[0,0] = 1\n",
        "for i in np.arange(C.shape[0]):\n",
        "    for j in np.arange(C.shape[1]):\n",
        "        C_KS[i,(2**k)*j:(2**k)*(j+1)]=np.roll(vector,int(C[i,j]))\n",
        "        \n",
        "        \n",
        "C_KS = 1- 2*C_KS"
      ],
      "execution_count": null,
      "outputs": []
    },
    {
      "cell_type": "code",
      "metadata": {
        "colab": {
          "base_uri": "https://localhost:8080/"
        },
        "id": "QgQJyG7nEpWg",
        "outputId": "47762d1d-0d3e-4395-b286-8a7fe1de72b8"
      },
      "source": [
        "!pip install pyldpc"
      ],
      "execution_count": null,
      "outputs": [
        {
          "output_type": "stream",
          "text": [
            "Collecting pyldpc\n",
            "\u001b[?25l  Downloading https://files.pythonhosted.org/packages/e1/aa/fd5495869c7106a638ae71aa497d7d266cae7f2a343d1f6a9d0e3a986e1e/pyldpc-0.7.9.tar.gz (1.1MB)\n",
            "\u001b[K     |████████████████████████████████| 1.1MB 9.3MB/s \n",
            "\u001b[?25hRequirement already satisfied: numpy in /usr/local/lib/python3.6/dist-packages (from pyldpc) (1.18.5)\n",
            "Requirement already satisfied: scipy in /usr/local/lib/python3.6/dist-packages (from pyldpc) (1.4.1)\n",
            "Requirement already satisfied: numba in /usr/local/lib/python3.6/dist-packages (from pyldpc) (0.48.0)\n",
            "Requirement already satisfied: llvmlite<0.32.0,>=0.31.0dev0 in /usr/local/lib/python3.6/dist-packages (from numba->pyldpc) (0.31.0)\n",
            "Requirement already satisfied: setuptools in /usr/local/lib/python3.6/dist-packages (from numba->pyldpc) (50.3.2)\n",
            "Building wheels for collected packages: pyldpc\n",
            "  Building wheel for pyldpc (setup.py) ... \u001b[?25l\u001b[?25hdone\n",
            "  Created wheel for pyldpc: filename=pyldpc-0.7.9-cp36-none-any.whl size=14306 sha256=82eb7d32e27d11599d2a583d213129605002f9b9679de3595077ac3fd8819807\n",
            "  Stored in directory: /root/.cache/pip/wheels/47/7a/10/e94058ba8b0b6d98bf2719226d18d3dd6056525ad7b984c068\n",
            "Successfully built pyldpc\n",
            "Installing collected packages: pyldpc\n",
            "Successfully installed pyldpc-0.7.9\n"
          ],
          "name": "stdout"
        }
      ]
    },
    {
      "cell_type": "markdown",
      "metadata": {
        "id": "mPx6MW9mrpXz"
      },
      "source": [
        "We construct out codebook with the help of Low-density parity-check code (LDPC)"
      ]
    },
    {
      "cell_type": "code",
      "metadata": {
        "colab": {
          "base_uri": "https://localhost:8080/"
        },
        "id": "QU6k-WjaEl1E",
        "outputId": "71ec2ea5-feb6-4055-f423-b9becb9764ce"
      },
      "source": [
        "from pyldpc import make_ldpc, encode, decode, get_message\r\n",
        "n = 35\r\n",
        "d_v = 6\r\n",
        "d_c = 7\r\n",
        "snr = 20\r\n",
        "H, G = make_ldpc(n, d_v, d_c, systematic=True, sparse=True)\r\n",
        "k = G.shape[1]\r\n",
        "print(k)"
      ],
      "execution_count": null,
      "outputs": [
        {
          "output_type": "stream",
          "text": [
            "10\n"
          ],
          "name": "stdout"
        }
      ]
    },
    {
      "cell_type": "code",
      "metadata": {
        "id": "Qyo4fUM6sKwd"
      },
      "source": [
        "A = encode(G,get_info_vectors(2,10),1000) #sensing matrix"
      ],
      "execution_count": null,
      "outputs": []
    },
    {
      "cell_type": "markdown",
      "metadata": {
        "id": "NsK5kqhKKAd_"
      },
      "source": [
        "## 3. Problem solution \r\n",
        "### 3.1 NNLS: apply non-negative least squares solver from scipy.optimize\r\n",
        "This is the method that authors used for solving the problem (https://avinashvem.github.io/unsourcedma.pdf)"
      ]
    },
    {
      "cell_type": "code",
      "metadata": {
        "id": "3UmVWR_xTvXt",
        "colab": {
          "base_uri": "https://localhost:8080/",
          "height": 363
        },
        "outputId": "6eae0b36-71e5-476d-fead-bbd017ae4f72"
      },
      "source": [
        "num_tests = 2000\r\n",
        "N_list = T\r\n",
        "N0 = 10**(-SNR_array/10)\r\n",
        "sigma_array = np.sqrt(N0/2)\r\n",
        "Pr_error_T = np.zeros((1,len(SNR_array)))\r\n",
        "#Pr_error_perUser = np.zeros((1,len(SNR_array)))\r\n",
        "Mp = 2**k\r\n",
        "\r\n",
        "for i in np.arange(len(sigma_array)):\r\n",
        "    sigma = sigma_array[i]\r\n",
        "    error = 0\r\n",
        "    #error_perUser = 0\r\n",
        "    test = 0\r\n",
        "    \r\n",
        "    while test < num_tests:\r\n",
        "        b = np.zeros((Mp,1))\r\n",
        "        perm = np.random.permutation(Mp)[:T] # indexes of transmitted messages\r\n",
        "        b[perm,0] = 1\r\n",
        "\r\n",
        "        y = A@b + np.array([np.random.normal(loc=0.0, scale=sigma*sigma, size=A.shape[0])]).T\r\n",
        "        y = np.reshape(y, (1,np.product(y.shape)))[0]\r\n",
        "        \r\n",
        "        #Non-negative least squares\r\n",
        "        \r\n",
        "        b_ls = np.array([nnls(A,y)],dtype=object)[0,0]\r\n",
        "        \r\n",
        "        cdws = nlargest(N_list, enumerate(b_ls), key=lambda x: x[1])\r\n",
        "        \r\n",
        "        cdws = sorted(cdws)\r\n",
        "\r\n",
        "        set_idxs = set([cdws[i][0] for i in range(T)])\r\n",
        "\r\n",
        "        #print(set(perm))\r\n",
        "        #print(set_idxs)\r\n",
        "\r\n",
        "        error = error + (T-len(set_idxs&set(perm)))/T     \r\n",
        "        \r\n",
        "        test = test+1\r\n",
        "    Pr_error_T[0,i]=error/test\r\n",
        "print(Pr_error_T)"
      ],
      "execution_count": null,
      "outputs": [
        {
          "output_type": "error",
          "ename": "KeyboardInterrupt",
          "evalue": "ignored",
          "traceback": [
            "\u001b[0;31m---------------------------------------------------------------------------\u001b[0m",
            "\u001b[0;31mKeyboardInterrupt\u001b[0m                         Traceback (most recent call last)",
            "\u001b[0;32m<ipython-input-6-e77f1f49ee61>\u001b[0m in \u001b[0;36m<module>\u001b[0;34m()\u001b[0m\n\u001b[1;32m     23\u001b[0m         \u001b[0;31m#Non-negative least squares\u001b[0m\u001b[0;34m\u001b[0m\u001b[0;34m\u001b[0m\u001b[0;34m\u001b[0m\u001b[0m\n\u001b[1;32m     24\u001b[0m \u001b[0;34m\u001b[0m\u001b[0m\n\u001b[0;32m---> 25\u001b[0;31m         \u001b[0mb_ls\u001b[0m \u001b[0;34m=\u001b[0m \u001b[0mnp\u001b[0m\u001b[0;34m.\u001b[0m\u001b[0marray\u001b[0m\u001b[0;34m(\u001b[0m\u001b[0;34m[\u001b[0m\u001b[0mnnls\u001b[0m\u001b[0;34m(\u001b[0m\u001b[0mA\u001b[0m\u001b[0;34m,\u001b[0m\u001b[0my\u001b[0m\u001b[0;34m)\u001b[0m\u001b[0;34m]\u001b[0m\u001b[0;34m,\u001b[0m\u001b[0mdtype\u001b[0m\u001b[0;34m=\u001b[0m\u001b[0mobject\u001b[0m\u001b[0;34m)\u001b[0m\u001b[0;34m[\u001b[0m\u001b[0;36m0\u001b[0m\u001b[0;34m,\u001b[0m\u001b[0;36m0\u001b[0m\u001b[0;34m]\u001b[0m\u001b[0;34m\u001b[0m\u001b[0;34m\u001b[0m\u001b[0m\n\u001b[0m\u001b[1;32m     26\u001b[0m \u001b[0;34m\u001b[0m\u001b[0m\n\u001b[1;32m     27\u001b[0m         \u001b[0mcdws\u001b[0m \u001b[0;34m=\u001b[0m \u001b[0mnlargest\u001b[0m\u001b[0;34m(\u001b[0m\u001b[0mN_list\u001b[0m\u001b[0;34m,\u001b[0m \u001b[0menumerate\u001b[0m\u001b[0;34m(\u001b[0m\u001b[0mb_ls\u001b[0m\u001b[0;34m)\u001b[0m\u001b[0;34m,\u001b[0m \u001b[0mkey\u001b[0m\u001b[0;34m=\u001b[0m\u001b[0;32mlambda\u001b[0m \u001b[0mx\u001b[0m\u001b[0;34m:\u001b[0m \u001b[0mx\u001b[0m\u001b[0;34m[\u001b[0m\u001b[0;36m1\u001b[0m\u001b[0;34m]\u001b[0m\u001b[0;34m)\u001b[0m\u001b[0;34m\u001b[0m\u001b[0;34m\u001b[0m\u001b[0m\n",
            "\u001b[0;32m/usr/local/lib/python3.6/dist-packages/scipy/optimize/nnls.py\u001b[0m in \u001b[0;36mnnls\u001b[0;34m(A, b, maxiter)\u001b[0m\n\u001b[1;32m     76\u001b[0m     \u001b[0mindex\u001b[0m \u001b[0;34m=\u001b[0m \u001b[0mzeros\u001b[0m\u001b[0;34m(\u001b[0m\u001b[0;34m(\u001b[0m\u001b[0mn\u001b[0m\u001b[0;34m,\u001b[0m\u001b[0;34m)\u001b[0m\u001b[0;34m,\u001b[0m \u001b[0mdtype\u001b[0m\u001b[0;34m=\u001b[0m\u001b[0mint\u001b[0m\u001b[0;34m)\u001b[0m\u001b[0;34m\u001b[0m\u001b[0;34m\u001b[0m\u001b[0m\n\u001b[1;32m     77\u001b[0m \u001b[0;34m\u001b[0m\u001b[0m\n\u001b[0;32m---> 78\u001b[0;31m     \u001b[0mx\u001b[0m\u001b[0;34m,\u001b[0m \u001b[0mrnorm\u001b[0m\u001b[0;34m,\u001b[0m \u001b[0mmode\u001b[0m \u001b[0;34m=\u001b[0m \u001b[0m_nnls\u001b[0m\u001b[0;34m.\u001b[0m\u001b[0mnnls\u001b[0m\u001b[0;34m(\u001b[0m\u001b[0mA\u001b[0m\u001b[0;34m,\u001b[0m \u001b[0mm\u001b[0m\u001b[0;34m,\u001b[0m \u001b[0mn\u001b[0m\u001b[0;34m,\u001b[0m \u001b[0mb\u001b[0m\u001b[0;34m,\u001b[0m \u001b[0mw\u001b[0m\u001b[0;34m,\u001b[0m \u001b[0mzz\u001b[0m\u001b[0;34m,\u001b[0m \u001b[0mindex\u001b[0m\u001b[0;34m,\u001b[0m \u001b[0mmaxiter\u001b[0m\u001b[0;34m)\u001b[0m\u001b[0;34m\u001b[0m\u001b[0;34m\u001b[0m\u001b[0m\n\u001b[0m\u001b[1;32m     79\u001b[0m     \u001b[0;32mif\u001b[0m \u001b[0mmode\u001b[0m \u001b[0;34m!=\u001b[0m \u001b[0;36m1\u001b[0m\u001b[0;34m:\u001b[0m\u001b[0;34m\u001b[0m\u001b[0;34m\u001b[0m\u001b[0m\n\u001b[1;32m     80\u001b[0m         \u001b[0;32mraise\u001b[0m \u001b[0mRuntimeError\u001b[0m\u001b[0;34m(\u001b[0m\u001b[0;34m\"too many iterations\"\u001b[0m\u001b[0;34m)\u001b[0m\u001b[0;34m\u001b[0m\u001b[0;34m\u001b[0m\u001b[0m\n",
            "\u001b[0;31mKeyboardInterrupt\u001b[0m: "
          ]
        }
      ]
    },
    {
      "cell_type": "code",
      "metadata": {
        "id": "gspx2VhqFfjT"
      },
      "source": [
        "import matplotlib.pyplot as plt"
      ],
      "execution_count": null,
      "outputs": []
    },
    {
      "cell_type": "markdown",
      "metadata": {
        "id": "CtKhjv19hFYP"
      },
      "source": [
        "+ Firstly, we decided to improve authors' solution by adding N_list - search not T maximal, but some number (e.g. N_list = 10). Then we consider all possible combinations $C_{N_{list}}^{T}$ and find the minimum distanse in terms of $||\\cdot||_2$"
      ]
    },
    {
      "cell_type": "code",
      "metadata": {
        "id": "PF3nEL9WhQnY"
      },
      "source": [
        "import itertools"
      ],
      "execution_count": null,
      "outputs": []
    },
    {
      "cell_type": "code",
      "metadata": {
        "id": "HhoVl6iUhEU6",
        "colab": {
          "base_uri": "https://localhost:8080/",
          "height": 398
        },
        "outputId": "2987b793-beda-4da7-983f-1102c089c9f6"
      },
      "source": [
        "num_tests = 2000\r\n",
        "N_list = 10\r\n",
        "N0 = 10**(-SNR_array/10)\r\n",
        "sigma_array = np.sqrt(N0/2)\r\n",
        "Pr_error = np.zeros((1,len(SNR_array)))\r\n",
        "T = 2\r\n",
        "\r\n",
        "Mp = 2**k\r\n",
        "\r\n",
        "for i in np.arange(len(sigma_array)):\r\n",
        "    sigma = sigma_array[i]\r\n",
        "    error = 0\r\n",
        "    #error_perUser = 0\r\n",
        "    test = 0\r\n",
        "    \r\n",
        "    while test < num_tests:\r\n",
        "        b = np.zeros((Mp,1))\r\n",
        "        perm = np.random.permutation(Mp)[:T] # indexes of transmitted messages\r\n",
        "        b[perm,0] = 1\r\n",
        "\r\n",
        "        y = A@b + np.array([np.random.normal(loc=0.0, scale=sigma*sigma, size=A.shape[0])]).T\r\n",
        "        y = np.reshape(y, (1,np.product(y.shape)))[0]\r\n",
        "        \r\n",
        "        #Non-negative least squares\r\n",
        "        \r\n",
        "        b_ls = np.array([nnls(A,y)],dtype=object)[0,0]\r\n",
        "        \r\n",
        "        cdws = nlargest(N_list, enumerate(b_ls), key=lambda x: x[1])\r\n",
        "        \r\n",
        "        cdws = sorted(cdws)\r\n",
        "        \r\n",
        "        cdw_idx = [cdws[i][0] for i in range(N_list)]\r\n",
        "       # print(cdw_idx)\r\n",
        "        \r\n",
        "        comb = np.array([list(itertools.combinations(cdw_idx, T))])\r\n",
        "       # print(A[:,comb[0][1,:]][:,0],)\r\n",
        "        dist_min = 100000\r\n",
        "        \r\n",
        "        \r\n",
        "        for j in np.arange(comb[0].shape[0]):\r\n",
        "            dist = np.linalg.norm(y - A[:,comb[0][j,:]][:,0]-A[:,comb[0][j,:]][:,1])\r\n",
        "           # print(y - A[:,comb[0][j,:]][:,0]-A[:,comb[0][j,:]][:,1])\r\n",
        "            if dist_min > dist:\r\n",
        "                dist_min = dist\r\n",
        "                comb_min = comb[0][j,:].T\r\n",
        "        \r\n",
        "        \r\n",
        "       # print(comb_min)\r\n",
        "        set_idxs = set(comb_min)\r\n",
        "\r\n",
        "        error = error + (T-len(set_idxs&set(perm)))/T     \r\n",
        "        \r\n",
        "        test = test+1\r\n",
        "    Pr_error[0,i]=error/test"
      ],
      "execution_count": null,
      "outputs": [
        {
          "output_type": "error",
          "ename": "KeyboardInterrupt",
          "evalue": "ignored",
          "traceback": [
            "\u001b[0;31m---------------------------------------------------------------------------\u001b[0m",
            "\u001b[0;31mKeyboardInterrupt\u001b[0m                         Traceback (most recent call last)",
            "\u001b[0;32m<ipython-input-9-465e158b4362>\u001b[0m in \u001b[0;36m<module>\u001b[0;34m()\u001b[0m\n\u001b[1;32m     39\u001b[0m \u001b[0;34m\u001b[0m\u001b[0m\n\u001b[1;32m     40\u001b[0m         \u001b[0;32mfor\u001b[0m \u001b[0mj\u001b[0m \u001b[0;32min\u001b[0m \u001b[0mnp\u001b[0m\u001b[0;34m.\u001b[0m\u001b[0marange\u001b[0m\u001b[0;34m(\u001b[0m\u001b[0mcomb\u001b[0m\u001b[0;34m[\u001b[0m\u001b[0;36m0\u001b[0m\u001b[0;34m]\u001b[0m\u001b[0;34m.\u001b[0m\u001b[0mshape\u001b[0m\u001b[0;34m[\u001b[0m\u001b[0;36m0\u001b[0m\u001b[0;34m]\u001b[0m\u001b[0;34m)\u001b[0m\u001b[0;34m:\u001b[0m\u001b[0;34m\u001b[0m\u001b[0;34m\u001b[0m\u001b[0m\n\u001b[0;32m---> 41\u001b[0;31m             \u001b[0mdist\u001b[0m \u001b[0;34m=\u001b[0m \u001b[0mnp\u001b[0m\u001b[0;34m.\u001b[0m\u001b[0mlinalg\u001b[0m\u001b[0;34m.\u001b[0m\u001b[0mnorm\u001b[0m\u001b[0;34m(\u001b[0m\u001b[0my\u001b[0m \u001b[0;34m-\u001b[0m \u001b[0mA\u001b[0m\u001b[0;34m[\u001b[0m\u001b[0;34m:\u001b[0m\u001b[0;34m,\u001b[0m\u001b[0mcomb\u001b[0m\u001b[0;34m[\u001b[0m\u001b[0;36m0\u001b[0m\u001b[0;34m]\u001b[0m\u001b[0;34m[\u001b[0m\u001b[0mj\u001b[0m\u001b[0;34m,\u001b[0m\u001b[0;34m:\u001b[0m\u001b[0;34m]\u001b[0m\u001b[0;34m]\u001b[0m\u001b[0;34m[\u001b[0m\u001b[0;34m:\u001b[0m\u001b[0;34m,\u001b[0m\u001b[0;36m0\u001b[0m\u001b[0;34m]\u001b[0m\u001b[0;34m-\u001b[0m\u001b[0mA\u001b[0m\u001b[0;34m[\u001b[0m\u001b[0;34m:\u001b[0m\u001b[0;34m,\u001b[0m\u001b[0mcomb\u001b[0m\u001b[0;34m[\u001b[0m\u001b[0;36m0\u001b[0m\u001b[0;34m]\u001b[0m\u001b[0;34m[\u001b[0m\u001b[0mj\u001b[0m\u001b[0;34m,\u001b[0m\u001b[0;34m:\u001b[0m\u001b[0;34m]\u001b[0m\u001b[0;34m]\u001b[0m\u001b[0;34m[\u001b[0m\u001b[0;34m:\u001b[0m\u001b[0;34m,\u001b[0m\u001b[0;36m1\u001b[0m\u001b[0;34m]\u001b[0m\u001b[0;34m)\u001b[0m\u001b[0;34m\u001b[0m\u001b[0;34m\u001b[0m\u001b[0m\n\u001b[0m\u001b[1;32m     42\u001b[0m            \u001b[0;31m# print(y - A[:,comb[0][j,:]][:,0]-A[:,comb[0][j,:]][:,1])\u001b[0m\u001b[0;34m\u001b[0m\u001b[0;34m\u001b[0m\u001b[0;34m\u001b[0m\u001b[0m\n\u001b[1;32m     43\u001b[0m             \u001b[0;32mif\u001b[0m \u001b[0mdist_min\u001b[0m \u001b[0;34m>\u001b[0m \u001b[0mdist\u001b[0m\u001b[0;34m:\u001b[0m\u001b[0;34m\u001b[0m\u001b[0;34m\u001b[0m\u001b[0m\n",
            "\u001b[0;32m<__array_function__ internals>\u001b[0m in \u001b[0;36mnorm\u001b[0;34m(*args, **kwargs)\u001b[0m\n",
            "\u001b[0;32m/usr/local/lib/python3.6/dist-packages/numpy/linalg/linalg.py\u001b[0m in \u001b[0;36mnorm\u001b[0;34m(x, ord, axis, keepdims)\u001b[0m\n\u001b[1;32m   2475\u001b[0m             \u001b[0;32melse\u001b[0m\u001b[0;34m:\u001b[0m\u001b[0;34m\u001b[0m\u001b[0;34m\u001b[0m\u001b[0m\n\u001b[1;32m   2476\u001b[0m                 \u001b[0msqnorm\u001b[0m \u001b[0;34m=\u001b[0m \u001b[0mdot\u001b[0m\u001b[0;34m(\u001b[0m\u001b[0mx\u001b[0m\u001b[0;34m,\u001b[0m \u001b[0mx\u001b[0m\u001b[0;34m)\u001b[0m\u001b[0;34m\u001b[0m\u001b[0;34m\u001b[0m\u001b[0m\n\u001b[0;32m-> 2477\u001b[0;31m             \u001b[0mret\u001b[0m \u001b[0;34m=\u001b[0m \u001b[0msqrt\u001b[0m\u001b[0;34m(\u001b[0m\u001b[0msqnorm\u001b[0m\u001b[0;34m)\u001b[0m\u001b[0;34m\u001b[0m\u001b[0;34m\u001b[0m\u001b[0m\n\u001b[0m\u001b[1;32m   2478\u001b[0m             \u001b[0;32mif\u001b[0m \u001b[0mkeepdims\u001b[0m\u001b[0;34m:\u001b[0m\u001b[0;34m\u001b[0m\u001b[0;34m\u001b[0m\u001b[0m\n\u001b[1;32m   2479\u001b[0m                 \u001b[0mret\u001b[0m \u001b[0;34m=\u001b[0m \u001b[0mret\u001b[0m\u001b[0;34m.\u001b[0m\u001b[0mreshape\u001b[0m\u001b[0;34m(\u001b[0m\u001b[0mndim\u001b[0m\u001b[0;34m*\u001b[0m\u001b[0;34m[\u001b[0m\u001b[0;36m1\u001b[0m\u001b[0;34m]\u001b[0m\u001b[0;34m)\u001b[0m\u001b[0;34m\u001b[0m\u001b[0;34m\u001b[0m\u001b[0m\n",
            "\u001b[0;31mKeyboardInterrupt\u001b[0m: "
          ]
        }
      ]
    },
    {
      "cell_type": "code",
      "metadata": {
        "id": "EQDwufLLhbDi"
      },
      "source": [
        "Pr_error =[0.90775, 0.83775, 0.72175, 0.54   , 0.2855 , 0.1105 , 0.046  ,0.0195 , 0.0175 , 0.014  , 0.013  , 0.0095 , 0.0065 ]"
      ],
      "execution_count": null,
      "outputs": []
    },
    {
      "cell_type": "code",
      "metadata": {
        "colab": {
          "base_uri": "https://localhost:8080/"
        },
        "id": "z7I8Mp30nt-q",
        "outputId": "d2b6ce0b-0de3-4a5c-b2e3-e1339163fe1d"
      },
      "source": [
        "Pr_error_T"
      ],
      "execution_count": null,
      "outputs": [
        {
          "output_type": "execute_result",
          "data": {
            "text/plain": [
              "array([[0.924  , 0.86275, 0.76475, 0.58925, 0.3775 , 0.167  , 0.05725,\n",
              "        0.0235 , 0.017  , 0.009  , 0.008  , 0.01   , 0.009  ]])"
            ]
          },
          "metadata": {
            "tags": []
          },
          "execution_count": 26
        }
      ]
    },
    {
      "cell_type": "code",
      "metadata": {
        "colab": {
          "base_uri": "https://localhost:8080/",
          "height": 388
        },
        "id": "Nft5FbKchqWB",
        "outputId": "6c8f5924-a105-4096-e37d-a5bda02ce7d3"
      },
      "source": [
        "fig, ax = plt.subplots(1, 1, figsize=(10, 6))\r\n",
        "\r\n",
        "ax.semilogy(SNR_array,np.reshape(Pr_error, (1,np.product(Pr_error.shape)))[0],label=\"N_list=10\")\r\n",
        "ax.semilogy(SNR_array,np.reshape(Pr_error_T, (1,np.product(Pr_error_T.shape)))[0],label=\"N_list=T\")\r\n",
        "\r\n",
        "ax.set_xlabel(\"SNR\")\r\n",
        "ax.set_ylabel(\"Pr_err\")\r\n",
        "\r\n",
        "ax.legend()\r\n",
        "plt.show()"
      ],
      "execution_count": null,
      "outputs": [
        {
          "output_type": "display_data",
          "data": {
            "image/png": "[encoded data removed]",
            "text/plain": [
              "<Figure size 720x432 with 1 Axes>"
            ]
          },
          "metadata": {
            "tags": [],
            "needs_background": "light"
          }
        }
      ]
    },
    {
      "cell_type": "markdown",
      "metadata": {
        "id": "69YE8gypqKb4"
      },
      "source": [
        "As we can see, increasing of N_list will lead to increasing in accuracy (and complexity)"
      ]
    },
    {
      "cell_type": "markdown",
      "metadata": {
        "id": "LDigcONmNklZ"
      },
      "source": [
        "### 3.2 Least squares with bounds [0,1] and initial guess  (consider it equiprobable)"
      ]
    },
    {
      "cell_type": "code",
      "metadata": {
        "id": "MhflUgzCJH5Y"
      },
      "source": [
        "from scipy.optimize import least_squares"
      ],
      "execution_count": null,
      "outputs": []
    },
    {
      "cell_type": "code",
      "metadata": {
        "id": "bjoB2v3SJHwk"
      },
      "source": [
        "def leastsq(x):    \r\n",
        "    return A@x - y"
      ],
      "execution_count": null,
      "outputs": []
    },
    {
      "cell_type": "code",
      "metadata": {
        "id": "vtyCi1VQJHoh"
      },
      "source": [
        "# initial guess\r\n",
        "\r\n",
        "x0=np.ones(1024)/2"
      ],
      "execution_count": null,
      "outputs": []
    },
    {
      "cell_type": "code",
      "metadata": {
        "colab": {
          "base_uri": "https://localhost:8080/",
          "height": 379
        },
        "id": "QbPZaQ92CkMc",
        "outputId": "138453eb-69a1-4df3-c4a1-39c6d1c2f75a"
      },
      "source": [
        "num_tests = 1000\r\n",
        "N_list = 10\r\n",
        "N0 = 10**(-SNR_array/10)\r\n",
        "sigma_array = np.sqrt(N0/2)\r\n",
        "Pr_error_ls = np.zeros((1,len(SNR_array)))\r\n",
        "\r\n",
        "Mp = 2**k\r\n",
        "\r\n",
        "for i in np.arange(len(sigma_array)):\r\n",
        "    sigma = sigma_array[i]\r\n",
        "    error = 0\r\n",
        "    #error_perUser = 0\r\n",
        "    test = 0\r\n",
        "    \r\n",
        "    while test < num_tests:\r\n",
        "        b = np.zeros((Mp,1))\r\n",
        "        perm = np.random.permutation(Mp)[:T] # indexes of transmitted messages\r\n",
        "        b[perm,0] = 1\r\n",
        "\r\n",
        "        y = A@b + np.array([np.random.normal(loc=0.0, scale=sigma*sigma, size=A.shape[0])]).T\r\n",
        "        y = np.reshape(y, (1,np.product(y.shape)))[0]\r\n",
        "        \r\n",
        "        #Non-negative least squares\r\n",
        "        \r\n",
        "        b_lss = least_squares(leastsq,x0, bounds=(0,1))\r\n",
        "        \r\n",
        "        cdws = nlargest(N_list, enumerate(b_lss.x), key=lambda x: x[1])\r\n",
        "        \r\n",
        "        cdws = sorted(cdws)\r\n",
        "        \r\n",
        "        cdw_idx = [cdws[i][0] for i in range(N_list)]\r\n",
        "       # print(cdw_idx)\r\n",
        "        \r\n",
        "        comb = np.array([list(itertools.combinations(cdw_idx, T))])\r\n",
        "       # print(A[:,comb[0][1,:]][:,0],)\r\n",
        "        dist_min = 100000\r\n",
        "        \r\n",
        "        \r\n",
        "        for j in np.arange(comb[0].shape[0]):\r\n",
        "            dist = np.linalg.norm(y - A[:,comb[0][j,:]][:,0]-A[:,comb[0][j,:]][:,1])\r\n",
        "           # print(y - A[:,comb[0][j,:]][:,0]-A[:,comb[0][j,:]][:,1])\r\n",
        "            if dist_min > dist:\r\n",
        "                dist_min = dist\r\n",
        "                comb_min = comb[0][j,:].T\r\n",
        "        \r\n",
        "        \r\n",
        "       # print(comb_min)\r\n",
        "        set_idxs = set(comb_min)\r\n",
        "\r\n",
        "        error = error + (T-len(set_idxs&set(perm)))/T     \r\n",
        "        \r\n",
        "        test = test+1\r\n",
        "    Pr_error_ls[0,i]=error/test"
      ],
      "execution_count": null,
      "outputs": [
        {
          "output_type": "error",
          "ename": "KeyboardInterrupt",
          "evalue": "ignored",
          "traceback": [
            "\u001b[0;31m---------------------------------------------------------------------------\u001b[0m",
            "\u001b[0;31mKeyboardInterrupt\u001b[0m                         Traceback (most recent call last)",
            "\u001b[0;32m<ipython-input-33-9f4d83aa0b46>\u001b[0m in \u001b[0;36m<module>\u001b[0;34m()\u001b[0m\n\u001b[1;32m     23\u001b[0m         \u001b[0;31m#Non-negative least squares\u001b[0m\u001b[0;34m\u001b[0m\u001b[0;34m\u001b[0m\u001b[0;34m\u001b[0m\u001b[0m\n\u001b[1;32m     24\u001b[0m \u001b[0;34m\u001b[0m\u001b[0m\n\u001b[0;32m---> 25\u001b[0;31m         \u001b[0mb_lss\u001b[0m \u001b[0;34m=\u001b[0m \u001b[0mleast_squares\u001b[0m\u001b[0;34m(\u001b[0m\u001b[0mleastsq\u001b[0m\u001b[0;34m,\u001b[0m\u001b[0mx0\u001b[0m\u001b[0;34m,\u001b[0m \u001b[0mbounds\u001b[0m\u001b[0;34m=\u001b[0m\u001b[0;34m(\u001b[0m\u001b[0;36m0\u001b[0m\u001b[0;34m,\u001b[0m\u001b[0;36m1\u001b[0m\u001b[0;34m)\u001b[0m\u001b[0;34m)\u001b[0m\u001b[0;34m\u001b[0m\u001b[0;34m\u001b[0m\u001b[0m\n\u001b[0m\u001b[1;32m     26\u001b[0m \u001b[0;34m\u001b[0m\u001b[0m\n\u001b[1;32m     27\u001b[0m         \u001b[0mcdws\u001b[0m \u001b[0;34m=\u001b[0m \u001b[0mnlargest\u001b[0m\u001b[0;34m(\u001b[0m\u001b[0mN_list\u001b[0m\u001b[0;34m,\u001b[0m \u001b[0menumerate\u001b[0m\u001b[0;34m(\u001b[0m\u001b[0mb_lss\u001b[0m\u001b[0;34m.\u001b[0m\u001b[0mx\u001b[0m\u001b[0;34m)\u001b[0m\u001b[0;34m,\u001b[0m \u001b[0mkey\u001b[0m\u001b[0;34m=\u001b[0m\u001b[0;32mlambda\u001b[0m \u001b[0mx\u001b[0m\u001b[0;34m:\u001b[0m \u001b[0mx\u001b[0m\u001b[0;34m[\u001b[0m\u001b[0;36m1\u001b[0m\u001b[0;34m]\u001b[0m\u001b[0;34m)\u001b[0m\u001b[0;34m\u001b[0m\u001b[0;34m\u001b[0m\u001b[0m\n",
            "\u001b[0;32m/usr/local/lib/python3.6/dist-packages/scipy/optimize/_lsq/least_squares.py\u001b[0m in \u001b[0;36mleast_squares\u001b[0;34m(fun, x0, jac, bounds, method, ftol, xtol, gtol, x_scale, loss, f_scale, diff_step, tr_solver, tr_options, jac_sparsity, max_nfev, verbose, args, kwargs)\u001b[0m\n\u001b[1;32m    915\u001b[0m         result = trf(fun_wrapped, jac_wrapped, x0, f0, J0, lb, ub, ftol, xtol,\n\u001b[1;32m    916\u001b[0m                      \u001b[0mgtol\u001b[0m\u001b[0;34m,\u001b[0m \u001b[0mmax_nfev\u001b[0m\u001b[0;34m,\u001b[0m \u001b[0mx_scale\u001b[0m\u001b[0;34m,\u001b[0m \u001b[0mloss_function\u001b[0m\u001b[0;34m,\u001b[0m \u001b[0mtr_solver\u001b[0m\u001b[0;34m,\u001b[0m\u001b[0;34m\u001b[0m\u001b[0;34m\u001b[0m\u001b[0m\n\u001b[0;32m--> 917\u001b[0;31m                      tr_options.copy(), verbose)\n\u001b[0m\u001b[1;32m    918\u001b[0m \u001b[0;34m\u001b[0m\u001b[0m\n\u001b[1;32m    919\u001b[0m     \u001b[0;32melif\u001b[0m \u001b[0mmethod\u001b[0m \u001b[0;34m==\u001b[0m \u001b[0;34m'dogbox'\u001b[0m\u001b[0;34m:\u001b[0m\u001b[0;34m\u001b[0m\u001b[0;34m\u001b[0m\u001b[0m\n",
            "\u001b[0;32m/usr/local/lib/python3.6/dist-packages/scipy/optimize/_lsq/trf.py\u001b[0m in \u001b[0;36mtrf\u001b[0;34m(fun, jac, x0, f0, J0, lb, ub, ftol, xtol, gtol, max_nfev, x_scale, loss_function, tr_solver, tr_options, verbose)\u001b[0m\n\u001b[1;32m    126\u001b[0m         return trf_bounds(\n\u001b[1;32m    127\u001b[0m             \u001b[0mfun\u001b[0m\u001b[0;34m,\u001b[0m \u001b[0mjac\u001b[0m\u001b[0;34m,\u001b[0m \u001b[0mx0\u001b[0m\u001b[0;34m,\u001b[0m \u001b[0mf0\u001b[0m\u001b[0;34m,\u001b[0m \u001b[0mJ0\u001b[0m\u001b[0;34m,\u001b[0m \u001b[0mlb\u001b[0m\u001b[0;34m,\u001b[0m \u001b[0mub\u001b[0m\u001b[0;34m,\u001b[0m \u001b[0mftol\u001b[0m\u001b[0;34m,\u001b[0m \u001b[0mxtol\u001b[0m\u001b[0;34m,\u001b[0m \u001b[0mgtol\u001b[0m\u001b[0;34m,\u001b[0m \u001b[0mmax_nfev\u001b[0m\u001b[0;34m,\u001b[0m \u001b[0mx_scale\u001b[0m\u001b[0;34m,\u001b[0m\u001b[0;34m\u001b[0m\u001b[0;34m\u001b[0m\u001b[0m\n\u001b[0;32m--> 128\u001b[0;31m             loss_function, tr_solver, tr_options, verbose)\n\u001b[0m\u001b[1;32m    129\u001b[0m \u001b[0;34m\u001b[0m\u001b[0m\n\u001b[1;32m    130\u001b[0m \u001b[0;34m\u001b[0m\u001b[0m\n",
            "\u001b[0;32m/usr/local/lib/python3.6/dist-packages/scipy/optimize/_lsq/trf.py\u001b[0m in \u001b[0;36mtrf_bounds\u001b[0;34m(fun, jac, x0, f0, J0, lb, ub, ftol, xtol, gtol, max_nfev, x_scale, loss_function, tr_solver, tr_options, verbose)\u001b[0m\n\u001b[1;32m    302\u001b[0m             \u001b[0mJ_h\u001b[0m \u001b[0;34m=\u001b[0m \u001b[0mJ_augmented\u001b[0m\u001b[0;34m[\u001b[0m\u001b[0;34m:\u001b[0m\u001b[0mm\u001b[0m\u001b[0;34m]\u001b[0m  \u001b[0;31m# Memory view.\u001b[0m\u001b[0;34m\u001b[0m\u001b[0;34m\u001b[0m\u001b[0m\n\u001b[1;32m    303\u001b[0m             \u001b[0mJ_augmented\u001b[0m\u001b[0;34m[\u001b[0m\u001b[0mm\u001b[0m\u001b[0;34m:\u001b[0m\u001b[0;34m]\u001b[0m \u001b[0;34m=\u001b[0m \u001b[0mnp\u001b[0m\u001b[0;34m.\u001b[0m\u001b[0mdiag\u001b[0m\u001b[0;34m(\u001b[0m\u001b[0mdiag_h\u001b[0m\u001b[0;34m**\u001b[0m\u001b[0;36m0.5\u001b[0m\u001b[0;34m)\u001b[0m\u001b[0;34m\u001b[0m\u001b[0;34m\u001b[0m\u001b[0m\n\u001b[0;32m--> 304\u001b[0;31m             \u001b[0mU\u001b[0m\u001b[0;34m,\u001b[0m \u001b[0ms\u001b[0m\u001b[0;34m,\u001b[0m \u001b[0mV\u001b[0m \u001b[0;34m=\u001b[0m \u001b[0msvd\u001b[0m\u001b[0;34m(\u001b[0m\u001b[0mJ_augmented\u001b[0m\u001b[0;34m,\u001b[0m \u001b[0mfull_matrices\u001b[0m\u001b[0;34m=\u001b[0m\u001b[0;32mFalse\u001b[0m\u001b[0;34m)\u001b[0m\u001b[0;34m\u001b[0m\u001b[0;34m\u001b[0m\u001b[0m\n\u001b[0m\u001b[1;32m    305\u001b[0m             \u001b[0mV\u001b[0m \u001b[0;34m=\u001b[0m \u001b[0mV\u001b[0m\u001b[0;34m.\u001b[0m\u001b[0mT\u001b[0m\u001b[0;34m\u001b[0m\u001b[0;34m\u001b[0m\u001b[0m\n\u001b[1;32m    306\u001b[0m             \u001b[0muf\u001b[0m \u001b[0;34m=\u001b[0m \u001b[0mU\u001b[0m\u001b[0;34m.\u001b[0m\u001b[0mT\u001b[0m\u001b[0;34m.\u001b[0m\u001b[0mdot\u001b[0m\u001b[0;34m(\u001b[0m\u001b[0mf_augmented\u001b[0m\u001b[0;34m)\u001b[0m\u001b[0;34m\u001b[0m\u001b[0;34m\u001b[0m\u001b[0m\n",
            "\u001b[0;32m/usr/local/lib/python3.6/dist-packages/scipy/linalg/decomp_svd.py\u001b[0m in \u001b[0;36msvd\u001b[0;34m(a, full_matrices, compute_uv, overwrite_a, check_finite, lapack_driver)\u001b[0m\n\u001b[1;32m    127\u001b[0m     \u001b[0;31m# perform decomposition\u001b[0m\u001b[0;34m\u001b[0m\u001b[0;34m\u001b[0m\u001b[0;34m\u001b[0m\u001b[0m\n\u001b[1;32m    128\u001b[0m     u, s, v, info = gesXd(a1, compute_uv=compute_uv, lwork=lwork,\n\u001b[0;32m--> 129\u001b[0;31m                           full_matrices=full_matrices, overwrite_a=overwrite_a)\n\u001b[0m\u001b[1;32m    130\u001b[0m \u001b[0;34m\u001b[0m\u001b[0m\n\u001b[1;32m    131\u001b[0m     \u001b[0;32mif\u001b[0m \u001b[0minfo\u001b[0m \u001b[0;34m>\u001b[0m \u001b[0;36m0\u001b[0m\u001b[0;34m:\u001b[0m\u001b[0;34m\u001b[0m\u001b[0;34m\u001b[0m\u001b[0m\n",
            "\u001b[0;31mKeyboardInterrupt\u001b[0m: "
          ]
        }
      ]
    },
    {
      "cell_type": "code",
      "metadata": {
        "id": "29mpiGx5Qh-y"
      },
      "source": [
        "Pr_error_ls = [0.9015, 0.8355, 0.7,    0.52,   0.2425, 0.078,  0.0255, 0.0155, 0.0085, 0.009,  0.005,  0.005,  0.003 ]"
      ],
      "execution_count": null,
      "outputs": []
    },
    {
      "cell_type": "code",
      "metadata": {
        "id": "FA22wI5JQiGR"
      },
      "source": [
        "Pr_error_ls_T = [0.902,  0.812,  0.6845, 0.544,  0.394,  0.246,  0.1475, 0.0765, 0.044,  0.021,  0.015,  0.0095, 0.0085]"
      ],
      "execution_count": null,
      "outputs": []
    },
    {
      "cell_type": "code",
      "metadata": {
        "id": "WRqPcDIZDh0f",
        "colab": {
          "base_uri": "https://localhost:8080/",
          "height": 388
        },
        "outputId": "8c931776-0fa9-4439-dc86-f21cf09c0753"
      },
      "source": [
        "fig, ax = plt.subplots(1, 1, figsize=(10, 6))\r\n",
        "\r\n",
        "ax.semilogy(SNR_array,np.reshape(Pr_error, (1,np.product(Pr_error.shape)))[0],label=\"N_list=10\")\r\n",
        "ax.semilogy(SNR_array,np.reshape(Pr_error_T, (1,np.product(Pr_error_T.shape)))[0],label=\"N_list=T\")\r\n",
        "\r\n",
        "ax.semilogy(SNR_array,Pr_error_ls_T,label=\"Least squares N_list=T\")\r\n",
        "ax.semilogy(SNR_array,Pr_error_ls,label=\"Least squares N_list=10\")\r\n",
        "\r\n",
        "ax.set_xlabel(\"SNR\")\r\n",
        "ax.set_ylabel(\"Pr_err\")\r\n",
        "\r\n",
        "ax.legend()\r\n",
        "plt.show()"
      ],
      "execution_count": null,
      "outputs": [
        {
          "output_type": "display_data",
          "data": {
            "image/png": "[encoded data removed]",
            "text/plain": [
              "<Figure size 720x432 with 1 Axes>"
            ]
          },
          "metadata": {
            "tags": [],
            "needs_background": "light"
          }
        }
      ]
    },
    {
      "cell_type": "markdown",
      "metadata": {
        "id": "ExBS7ugXKjdx"
      },
      "source": [
        "### 3.3 BVLS\r\n"
      ]
    },
    {
      "cell_type": "code",
      "metadata": {
        "id": "ajZO1bzFlzdt"
      },
      "source": [
        "from scipy.optimize import lsq_linear"
      ],
      "execution_count": null,
      "outputs": []
    },
    {
      "cell_type": "code",
      "metadata": {
        "id": "G3GwsOF3lziN"
      },
      "source": [
        "num_tests = 2000\n",
        "N_list = 10\n",
        "N0 = 10**(-SNR_array/10)\n",
        "sigma_array = np.sqrt(N0/2)\n",
        "Pr_error_bv = np.zeros((1,len(SNR_array)))\n",
        "\n",
        "Mp = 2**k\n",
        "\n",
        "for i in np.arange(len(sigma_array)):\n",
        "    sigma = sigma_array[i]\n",
        "    error = 0\n",
        "    #error_perUser = 0\n",
        "    test = 0\n",
        "    \n",
        "    while test < num_tests:\n",
        "        b = np.zeros((Mp,1))\n",
        "        perm = np.random.permutation(Mp)[:T] # indexes of transmitted messages\n",
        "        b[perm,0] = 1\n",
        "\n",
        "        y = A@b + np.array([np.random.normal(loc=0.0, scale=sigma*sigma, size=A.shape[0])]).T\n",
        "        y = np.reshape(y, (1,np.product(y.shape)))[0]\n",
        "        \n",
        "        #BVLS\n",
        "        ans = lsq_linear(A, y, bounds=[0,1], method='bvls')\n",
        "        \n",
        "        cdws = nlargest(N_list, enumerate(ans.x), key=lambda x: x[1])\n",
        "        \n",
        "        cdws = sorted(cdws)\n",
        "        \n",
        "        cdw_idx = [cdws[i][0] for i in range(N_list)]\n",
        "       # print(cdw_idx)\n",
        "        \n",
        "        comb = np.array([list(itertools.combinations(cdw_idx, T))])\n",
        "       # print(A[:,comb[0][1,:]][:,0],)\n",
        "        dist_min = 100000\n",
        "        \n",
        "        \n",
        "        for j in np.arange(comb[0].shape[0]):\n",
        "            dist = np.linalg.norm(y - A[:,comb[0][j,:]][:,0]-A[:,comb[0][j,:]][:,1])\n",
        "           # print(y - A[:,comb[0][j,:]][:,0]-A[:,comb[0][j,:]][:,1])\n",
        "            if dist_min > dist:\n",
        "                dist_min = dist\n",
        "                comb_min = comb[0][j,:].T\n",
        "        \n",
        "        \n",
        "       # print(comb_min)\n",
        "        set_idxs = set(comb_min)\n",
        "\n",
        "        error = error + (T-len(set_idxs&set(perm)))/T     \n",
        "        \n",
        "        test = test+1\n",
        "    Pr_error_bv[0,i]=error/test"
      ],
      "execution_count": null,
      "outputs": []
    },
    {
      "cell_type": "code",
      "metadata": {
        "id": "LHlAnxwPlzmG"
      },
      "source": [
        "Pr_error_bv = [0.9065 , 0.83575, 0.72225, 0.508  , 0.25525, 0.088  , 0.023  , 0.01475, 0.005  , 0.006  , 0.0075 , 0.009  , 0.0035 ]"
      ],
      "execution_count": null,
      "outputs": []
    },
    {
      "cell_type": "code",
      "metadata": {
        "colab": {
          "base_uri": "https://localhost:8080/"
        },
        "id": "Bzqk7fmSlzpK",
        "outputId": "fddd6927-2fa8-45e5-e564-d7d452e92219"
      },
      "source": [
        "num_tests = 2000\n",
        "N_list = T\n",
        "N0 = 10**(-SNR_array/10)\n",
        "sigma_array = np.sqrt(N0/2)\n",
        "Pr_error_bv_T = np.zeros((1,len(SNR_array)))\n",
        "#Pr_error_perUser = np.zeros((1,len(SNR_array)))\n",
        "Mp = 2**k\n",
        "\n",
        "for i in np.arange(len(sigma_array)):\n",
        "    sigma = sigma_array[i]\n",
        "    error = 0\n",
        "    #error_perUser = 0\n",
        "    test = 0\n",
        "    \n",
        "    while test < num_tests:\n",
        "        b = np.zeros((Mp,1))\n",
        "        perm = np.random.permutation(Mp)[:T] # indexes of transmitted messages\n",
        "        b[perm,0] = 1\n",
        "\n",
        "        y = A@b + np.array([np.random.normal(loc=0.0, scale=sigma*sigma, size=A.shape[0])]).T\n",
        "        y = np.reshape(y, (1,np.product(y.shape)))[0]\n",
        "        \n",
        "        #Non-negative least squares\n",
        "        \n",
        "        ans = lsq_linear(A, y, bounds=[0,1], method='bvls')\n",
        "        \n",
        "        cdws = nlargest(N_list, enumerate(ans.x), key=lambda x: x[1])\n",
        "        \n",
        "        cdws = sorted(cdws)\n",
        "\n",
        "        set_idxs = set([cdws[i][0] for i in range(T)])\n",
        "\n",
        "        #print(set(perm))\n",
        "        #print(set_idxs)\n",
        "\n",
        "        error = error + (T-len(set_idxs&set(perm)))/T     \n",
        "        \n",
        "        test = test+1\n",
        "    Pr_error_bv_T[0,i]=error/test\n",
        "print(Pr_error_bv_T)"
      ],
      "execution_count": null,
      "outputs": [
        {
          "output_type": "stream",
          "text": [
            "[[0.9005  0.83025 0.70225 0.5455  0.37625 0.2415  0.144   0.08475 0.0435\n",
            "  0.025   0.014   0.011   0.009  ]]\n"
          ],
          "name": "stdout"
        }
      ]
    },
    {
      "cell_type": "code",
      "metadata": {
        "id": "gIAnyKdXmix5"
      },
      "source": [
        "Pr_error_bv_T = [0.9005,  0.83025, 0.70225, 0.5455,  0.37625, 0.2415,  0.144,   0.08475, 0.0435,\n",
        "  0.025,   0.014,   0.011,   0.009  ]"
      ],
      "execution_count": null,
      "outputs": []
    },
    {
      "cell_type": "code",
      "metadata": {
        "colab": {
          "base_uri": "https://localhost:8080/",
          "height": 405
        },
        "id": "Pz-_ZErhDZAQ",
        "outputId": "4d3ea2fa-58b2-40dd-f816-cbc20c11a618"
      },
      "source": [
        "fig, ax = plt.subplots(1, 1, figsize=(10, 6))\n",
        "\n",
        "ax.semilogy(SNR_array, Pr_error_ls_T, label=\"LS with bounds\")\n",
        "ax.semilogy(SNR_array,np.reshape(Pr_error_T, (1,np.product(Pr_error_T.shape)))[0],label=\"NNLS\")\n",
        "ax.semilogy(SNR_array,np.reshape(Pr_error_bv_T, (1,np.product(Pr_error_bv_T.shape)))[0],label=\"BVLS\")\n",
        "ax.semilogy(SNR_array, np.reshape(Pr_error_T_qr, (1,np.product(Pr_error_T_qr.shape)))[0],label=\"QR\")\n",
        "\n",
        "ax.set_xlabel(\"SNR\")\n",
        "ax.set_ylabel(\"$\\Pr_{err}$\")\n",
        "ax.set_title(\"$N_{list}=T$\")\n",
        "\n",
        "ax.legend()\n",
        "plt.show()"
      ],
      "execution_count": null,
      "outputs": [
        {
          "output_type": "display_data",
          "data": {
            "image/png": "[encoded data removed]",
            "text/plain": [
              "<Figure size 720x432 with 1 Axes>"
            ]
          },
          "metadata": {
            "tags": [],
            "needs_background": "light"
          }
        }
      ]
    },
    {
      "cell_type": "code",
      "metadata": {
        "colab": {
          "base_uri": "https://localhost:8080/",
          "height": 405
        },
        "id": "Q4zbcfosm434",
        "outputId": "927fce48-d43d-48ee-8452-8aebf2c56ee8"
      },
      "source": [
        "fig, ax = plt.subplots(1, 1, figsize=(10, 6))\n",
        "\n",
        "ax.semilogy(SNR_array, Pr_error_ls, label=\"LS with bounds\")\n",
        "ax.semilogy(SNR_array,np.reshape(Pr_error, (1,np.product(Pr_error.shape)))[0],label=\"NNLS\")\n",
        "ax.semilogy(SNR_array,np.reshape(Pr_error_bv, (1,np.product(Pr_error_bv.shape)))[0],label=\"BVLS\")\n",
        "ax.semilogy(SNR_array, np.reshape(Pr_error_qr, (1, np.product(Pr_error_qr.shape)))[0], label=\"QR\")\n",
        "\n",
        "ax.set_xlabel(\"SNR\")\n",
        "ax.set_ylabel(\"$\\Pr_{err}$\")\n",
        "ax.set_title(\"$N_{list}=10$\")\n",
        "\n",
        "ax.legend()\n",
        "plt.show()"
      ],
      "execution_count": null,
      "outputs": [
        {
          "output_type": "display_data",
          "data": {
            "image/png": "[encoded data removed]",
            "text/plain": [
              "<Figure size 720x432 with 1 Axes>"
            ]
          },
          "metadata": {
            "tags": [],
            "needs_background": "light"
          }
        }
      ]
    },
    {
      "cell_type": "code",
      "metadata": {
        "colab": {
          "base_uri": "https://localhost:8080/",
          "height": 388
        },
        "id": "0RxHu6zqpyZH",
        "outputId": "a64efd34-2ccb-4ef3-f3e1-21bfe1569e4e"
      },
      "source": [
        "fig, ax = plt.subplots(1, 1, figsize=(10, 6))\n",
        "\n",
        "ax.semilogy(SNR_array, Pr_error_ls, label=\"LS with bounds N_list=10\")\n",
        "ax.semilogy(SNR_array,np.reshape(Pr_error, (1,np.product(Pr_error.shape)))[0],label=\"NNLS N_list=10\")\n",
        "ax.semilogy(SNR_array,Pr_error_bv,label=\"BVLS N_list=10\")\n",
        "ax.semilogy(SNR_array, Pr_error_ls_T, label=\"LS with bounds N_list=T\")\n",
        "ax.semilogy(SNR_array,np.reshape(Pr_error_T, (1,np.product(Pr_error_T.shape)))[0],label=\"NNLS N_list=T\")\n",
        "ax.semilogy(SNR_array,Pr_error_bv_T,label=\"BVLS N_list=T\")\n",
        "ax.semilogy(SNR_array, np.reshape(Pr_error_qr, (1, np.product(Pr_error_qr.shape)))[0], label=\"QR N_list=10\")\n",
        "ax.semilogy(SNR_array, np.reshape(Pr_error_T_qr, (1,np.product(Pr_error_T_qr.shape)))[0],label=\"QR N_list=T\")\n",
        "\n",
        "ax.set_xlabel(\"SNR\")\n",
        "ax.set_ylabel(\"$\\Pr_{err}$\")\n",
        "\n",
        "ax.legend()\n",
        "plt.show()"
      ],
      "execution_count": null,
      "outputs": [
        {
          "output_type": "display_data",
          "data": {
            "image/png": "[encoded data removed]",
            "text/plain": [
              "<Figure size 720x432 with 1 Axes>"
            ]
          },
          "metadata": {
            "tags": [],
            "needs_background": "light"
          }
        }
      ]
    },
    {
      "cell_type": "markdown",
      "metadata": {
        "id": "MVhMk0XMR6Q3"
      },
      "source": [
        "As we can see, BVLS gives better results"
      ]
    },
    {
      "cell_type": "markdown",
      "metadata": {
        "id": "sNLYCMxlCnR9"
      },
      "source": [
        "### 3.4 Compressed sensing and DCT"
      ]
    },
    {
      "cell_type": "code",
      "metadata": {
        "id": "IQaVcC0lCnR9"
      },
      "source": [
        "# Here we use just a part of our codebook"
      ],
      "execution_count": null,
      "outputs": []
    },
    {
      "cell_type": "code",
      "metadata": {
        "id": "KqLfo7nIDum3"
      },
      "source": [
        "from sklearn import linear_model\n",
        "from scipy.fftpack import dct, idct\n",
        "from scipy.sparse import coo_matrix\n",
        "from matplotlib.pyplot import plot, show, figure, title\n",
        "import numpy as np"
      ],
      "execution_count": null,
      "outputs": []
    },
    {
      "cell_type": "code",
      "metadata": {
        "id": "_Z8zwlH0Duxh"
      },
      "source": [
        "num_part = 100\n",
        "T = 2\n",
        "n = 50\n",
        "code = np.random.randint(2, size=(num_part, n))\n",
        "num_channel = T*num_part\n",
        "rand_senders = np.random.choice(np.arange(num_part), size=(num_channel,T))\n",
        "encoded = 1 - 2*code\n",
        "after_transmission_code = np.zeros((num_channel, n))\n",
        "for i in range(num_channel):\n",
        "    after_transmission_code[i] = encoded[rand_senders[i]].sum(0) +  np.random.normal(scale=1., size=n)"
      ],
      "execution_count": null,
      "outputs": []
    },
    {
      "cell_type": "code",
      "metadata": {
        "id": "ubLw8e1qopMP"
      },
      "source": [
        "D = dct(code.T) # Here, we model using the DCT\n",
        "lasso = linear_model.Lasso(alpha=0.001)# here, we use lasso to minimize the L1 norm\n",
        "success = 0\n",
        "for i in range(num_channel):\n",
        "    lasso.fit(D, after_transmission_code[i])\n",
        "    # Creates the fourier transform that will most minimize l1 norm \n",
        "    recons = idct(lasso.coef_, axis=0)\n",
        "    num_code = np.argsort(np.abs(recons))[-T-1:]\n",
        "    if sum([elem in rand_senders[i] for elem in num_code]) == T:\n",
        "        success += 1\n",
        "    # else:\n",
        "    #     print(i, rand_senders[i], num_code)"
      ],
      "execution_count": null,
      "outputs": []
    },
    {
      "cell_type": "code",
      "metadata": {
        "colab": {
          "base_uri": "https://localhost:8080/"
        },
        "id": "eDsD9zUfrIg0",
        "outputId": "924804eb-19d2-4ade-c463-d735c7c9af61"
      },
      "source": [
        "success"
      ],
      "execution_count": null,
      "outputs": [
        {
          "output_type": "execute_result",
          "data": {
            "text/plain": [
              "128"
            ]
          },
          "metadata": {
            "tags": []
          },
          "execution_count": 12
        }
      ]
    },
    {
      "cell_type": "code",
      "metadata": {
        "id": "2mErbm8Zqrpf"
      },
      "source": [
        "num_tests = 1000\n",
        "N_list = T\n",
        "N0 = 10**(-SNR_array/10)\n",
        "sigma_array = np.sqrt(N0/2)\n",
        "Pr_error_cs_T = np.zeros((1,len(SNR_array)))\n",
        "#Pr_error_perUser = np.zeros((1,len(SNR_array)))\n",
        "A = encode(G,get_info_vectors(2,10),1000) #sensing matrix\n",
        "Mp = 2**k"
      ],
      "execution_count": null,
      "outputs": []
    },
    {
      "cell_type": "code",
      "metadata": {
        "id": "P_gxtB0vuYIH"
      },
      "source": [
        ""
      ],
      "execution_count": null,
      "outputs": []
    },
    {
      "cell_type": "code",
      "metadata": {
        "id": "YWxEvqHIYbC8"
      },
      "source": [
        "choice = sorted(np.random.choice(np.arange(1024), replace=False, size=80))\n",
        "D = (A[:, choice] - 1) / -2 + 0\n",
        "D = dct(D)"
      ],
      "execution_count": null,
      "outputs": []
    },
    {
      "cell_type": "code",
      "metadata": {
        "id": "KGhKTH2214y9"
      },
      "source": [
        "A_new = A[:, choice]"
      ],
      "execution_count": null,
      "outputs": []
    },
    {
      "cell_type": "code",
      "metadata": {
        "id": "CVd2ECtXpP8f"
      },
      "source": [
        "# D = dct(D) # Here, we model using the DCT\n",
        "Pr_error_cs = np.zeros((1,len(SNR_array)))\n",
        "Pr_error_l_bvls = np.zeros((1,len(SNR_array)))\n",
        "Pr_error_l_nnls = np.zeros((1,len(SNR_array)))\n",
        "Pr_error_l_qr = np.zeros((1,len(SNR_array)))\n",
        "lasso = linear_model.Lasso(alpha=0.001)# here, we use lasso to minimize the L1 norm\n",
        "N_list = 10\n",
        "Pr_error_cs = np.zeros((1,len(SNR_array)))\n",
        "\n",
        "for i in np.arange(len(sigma_array)):\n",
        "    sigma = sigma_array[i]\n",
        "    error = 0\n",
        "    error_bvls = 0\n",
        "    error_nnls = 0\n",
        "    error_qr = 0\n",
        "\n",
        "    #error_perUser = 0\n",
        "    test = 0\n",
        "    size_ = 80\n",
        "    while test < 100:\n",
        "        b = np.zeros((size_,1))\n",
        "        perm = np.random.permutation(size_)[:T] # indexes of transmitted messages\n",
        "        b[perm,0] = 1\n",
        "\n",
        "        y = A_new@b + np.array([np.random.normal(loc=0.0, scale=sigma*sigma, size=A_new.shape[0])]).T\n",
        "        y = np.reshape(y, (1,np.product(y.shape)))[0]\n",
        "        \n",
        "        #Compressive sensing\n",
        "        \n",
        "        lasso.fit(D, y)\n",
        "        # recons = idct(lasso.coef_, axis=0)\n",
        "        # num_code = np.argsort(np.abs(recons))[-5:]\n",
        "        \n",
        "        ans = idct(lasso.coef_, axis=0)\n",
        "        \n",
        "        cdws = nlargest(N_list, enumerate(np.abs(ans)), key=lambda x: x[1])\n",
        "        \n",
        "        cdws = sorted(cdws)\n",
        "        \n",
        "        cdw_idx = [cdws[i][0] for i in range(N_list)]\n",
        "       # print(cdw_idx)\n",
        "        \n",
        "        comb = np.array([list(itertools.combinations(cdw_idx, T))])\n",
        "       # print(A[:,comb[0][1,:]][:,0],)\n",
        "        dist_min = 100000\n",
        "        \n",
        "        \n",
        "        for j in np.arange(comb[0].shape[0]):\n",
        "            dist = np.linalg.norm(y - A_new[:,comb[0][j,:]][:,0]-A_new[:,comb[0][j,:]][:,1])\n",
        "           # print(y - A[:,comb[0][j,:]][:,0]-A[:,comb[0][j,:]][:,1])\n",
        "            if dist_min > dist:\n",
        "                dist_min = dist\n",
        "                comb_min = comb[0][j,:].T\n",
        "        \n",
        "        \n",
        "       # print(comb_min)\n",
        "        set_idxs = set(comb_min)\n",
        "        error = error + (T-len(set_idxs&set(perm)))/T\n",
        "\n",
        "\n",
        "\n",
        "        ans = lsq_linear(A_new, y, bounds=[0,1], method='bvls')\n",
        "        \n",
        "        cdws = nlargest(N_list, enumerate(ans.x), key=lambda x: x[1])\n",
        "        \n",
        "        cdws = sorted(cdws)\n",
        "        \n",
        "        cdw_idx = [cdws[i][0] for i in range(N_list)]\n",
        "       # print(cdw_idx)\n",
        "        \n",
        "        comb = np.array([list(itertools.combinations(cdw_idx, T))])\n",
        "       # print(A[:,comb[0][1,:]][:,0],)\n",
        "        dist_min = 100000\n",
        "        \n",
        "        \n",
        "        for j in np.arange(comb[0].shape[0]):\n",
        "            dist = np.linalg.norm(y - A_new[:,comb[0][j,:]][:,0]-A_new[:,comb[0][j,:]][:,1])\n",
        "           # print(y - A[:,comb[0][j,:]][:,0]-A[:,comb[0][j,:]][:,1])\n",
        "            if dist_min > dist:\n",
        "                dist_min = dist\n",
        "                comb_min = comb[0][j,:].T\n",
        "        \n",
        "        \n",
        "       # print(comb_min)\n",
        "        set_idxs = set(comb_min)\n",
        "        error_bvls = error_bvls + (T-len(set_idxs&set(perm)))/T     \n",
        "\n",
        "\n",
        "\n",
        "\n",
        "        ans = np.array([nnls(A_new,y)],dtype=object)[0,0]\n",
        "        \n",
        "        cdws = nlargest(N_list, enumerate(np.abs(ans)), key=lambda x: x[1])\n",
        "        \n",
        "        cdws = sorted(cdws)\n",
        "        \n",
        "        cdw_idx = [cdws[i][0] for i in range(N_list)]\n",
        "       # print(cdw_idx)\n",
        "        \n",
        "        comb = np.array([list(itertools.combinations(cdw_idx, T))])\n",
        "       # print(A[:,comb[0][1,:]][:,0],)\n",
        "        dist_min = 100000\n",
        "        \n",
        "        \n",
        "        for j in np.arange(comb[0].shape[0]):\n",
        "            dist = np.linalg.norm(y - A_new[:,comb[0][j,:]][:,0]-A_new[:,comb[0][j,:]][:,1])\n",
        "           # print(y - A[:,comb[0][j,:]][:,0]-A[:,comb[0][j,:]][:,1])\n",
        "            if dist_min > dist:\n",
        "                dist_min = dist\n",
        "                comb_min = comb[0][j,:].T\n",
        "        \n",
        "        \n",
        "       # print(comb_min)\n",
        "        set_idxs = set(comb_min)\n",
        "        error_nnls = error_nnls + (T-len(set_idxs&set(perm)))/T\n",
        "\n",
        "\n",
        "\n",
        "        Q, R = np.linalg.qr(A_new, mode=\"complete\")\n",
        "        b_qr = np.linalg.pinv(R) @ np.conj(Q.T) @ y \n",
        "        cdws = nlargest(N_list, enumerate(b_qr), key=lambda x: x[1])\n",
        "        \n",
        "        cdws = sorted(cdws)\n",
        "        \n",
        "        cdw_idx = [cdws[i][0] for i in range(N_list)]\n",
        "       # print(cdw_idx)\n",
        "        \n",
        "        comb = np.array([list(itertools.combinations(cdw_idx, T))])\n",
        "       # print(A[:,comb[0][1,:]][:,0],)\n",
        "        dist_min = 100000\n",
        "        \n",
        "        \n",
        "        for j in np.arange(comb[0].shape[0]):\n",
        "            dist = np.linalg.norm(y - A_new[:,comb[0][j,:]][:,0]-A_new[:,comb[0][j,:]][:,1])\n",
        "           # print(y - A[:,comb[0][j,:]][:,0]-A[:,comb[0][j,:]][:,1])\n",
        "            if dist_min > dist:\n",
        "                dist_min = dist\n",
        "                comb_min = comb[0][j,:].T\n",
        "        \n",
        "        \n",
        "       # print(comb_min)\n",
        "        set_idxs = set(comb_min)\n",
        "        error_qr = error_qr + (T-len(set_idxs&set(perm)))/T\n",
        "        \n",
        "        test = test+1\n",
        "    Pr_error_cs[0,i]=error/test\n",
        "    Pr_error_l_bvls[0,i]=error_bvls/test\n",
        "    Pr_error_l_nnls[0,i]=error_nnls/test\n",
        "    Pr_error_l_qr[0,i]=error_qr/test"
      ],
      "execution_count": null,
      "outputs": []
    },
    {
      "cell_type": "code",
      "metadata": {
        "colab": {
          "base_uri": "https://localhost:8080/"
        },
        "id": "zuXrKRocrQYB",
        "outputId": "c0186991-06e0-4af0-8795-36ee13409523"
      },
      "source": [
        "Pr_error_cs, Pr_error_l_bvls, Pr_error_l_nnls"
      ],
      "execution_count": null,
      "outputs": [
        {
          "output_type": "execute_result",
          "data": {
            "text/plain": [
              "array([[0.82 , 0.725, 0.525, 0.42 , 0.325, 0.19 , 0.105, 0.075, 0.06 ,\n",
              "        0.04 , 0.025, 0.015, 0.02 ]])"
            ]
          },
          "metadata": {
            "tags": []
          },
          "execution_count": 92
        }
      ]
    },
    {
      "cell_type": "code",
      "metadata": {
        "colab": {
          "base_uri": "https://localhost:8080/"
        },
        "id": "aTsE_e3XDMtg",
        "outputId": "e302d372-d605-4229-ff5e-d5051cd2e980"
      },
      "source": [
        "Pr_error_cs, Pr_error_l_bvls, Pr_error_l_nnls, Pr_error_l_qr"
      ],
      "execution_count": null,
      "outputs": [
        {
          "output_type": "execute_result",
          "data": {
            "text/plain": [
              "(array([[0.8  , 0.66 , 0.495, 0.345, 0.21 , 0.09 , 0.05 , 0.055, 0.005,\n",
              "         0.01 , 0.005, 0.015, 0.   ]]),\n",
              " array([[0.77 , 0.64 , 0.505, 0.535, 0.445, 0.46 , 0.355, 0.445, 0.475,\n",
              "         0.365, 0.335, 0.435, 0.355]]),\n",
              " array([[0.8  , 0.7  , 0.57 , 0.53 , 0.38 , 0.255, 0.2  , 0.15 , 0.04 ,\n",
              "         0.015, 0.01 , 0.005, 0.   ]]),\n",
              " array([[0.725, 0.585, 0.4  , 0.165, 0.065, 0.   , 0.   , 0.   , 0.   ,\n",
              "         0.   , 0.   , 0.   , 0.   ]]))"
            ]
          },
          "metadata": {
            "tags": []
          },
          "execution_count": 110
        }
      ]
    },
    {
      "cell_type": "code",
      "metadata": {
        "id": "XDkZFR8Gub5h"
      },
      "source": [
        "choice = sorted(np.random.choice(np.arange(1024), replace=False, size=60))\n",
        "D = (A[:, choice] - 1) / -2 + 0\n",
        "D = dct(D)\n",
        "A_new = A[:, choice]"
      ],
      "execution_count": null,
      "outputs": []
    },
    {
      "cell_type": "code",
      "metadata": {
        "id": "enbZsx3gXgeu"
      },
      "source": [
        "# D = dct(D) # Here, we model using the DCT\n",
        "T = 4\n",
        "Pr_error_cs = np.zeros((1,len(SNR_array)))\n",
        "Pr_error_l_bvls = np.zeros((1,len(SNR_array)))\n",
        "Pr_error_l_nnls = np.zeros((1,len(SNR_array)))\n",
        "Pr_error_l_qr = np.zeros((1,len(SNR_array)))\n",
        "lasso = linear_model.Lasso(alpha=0.001)# here, we use lasso to minimize the L1 norm\n",
        "N_list = 10\n",
        "Pr_error_cs = np.zeros((1,len(SNR_array)))\n",
        "\n",
        "for i in np.arange(len(sigma_array)):\n",
        "    sigma = sigma_array[i]\n",
        "    error = 0\n",
        "    error_bvls = 0\n",
        "    error_nnls = 0\n",
        "    error_qr = 0\n",
        "\n",
        "    #error_perUser = 0\n",
        "    test = 0\n",
        "    size_ = 60\n",
        "    while test < 100:\n",
        "        b = np.zeros((size_,1))\n",
        "        perm = np.random.permutation(size_)[:T] # indexes of transmitted messages\n",
        "        b[perm,0] = 1\n",
        "\n",
        "        y = A_new@b + np.array([np.random.normal(loc=0.0, scale=sigma*sigma, size=A_new.shape[0])]).T\n",
        "        y = np.reshape(y, (1,np.product(y.shape)))[0]\n",
        "        \n",
        "        #Compressive sensing\n",
        "        \n",
        "        lasso.fit(D, y)\n",
        "        # recons = idct(lasso.coef_, axis=0)\n",
        "        # num_code = np.argsort(np.abs(recons))[-5:]\n",
        "        \n",
        "        ans = idct(lasso.coef_, axis=0)\n",
        "        \n",
        "        cdws = nlargest(N_list, enumerate(np.abs(ans)), key=lambda x: x[1])\n",
        "        \n",
        "        cdws = sorted(cdws)\n",
        "        \n",
        "        cdw_idx = [cdws[i][0] for i in range(N_list)]\n",
        "       # print(cdw_idx)\n",
        "        \n",
        "        comb = np.array([list(itertools.combinations(cdw_idx, T))])\n",
        "       # print(A[:,comb[0][1,:]][:,0],)\n",
        "        dist_min = 100000\n",
        "        \n",
        "        \n",
        "        for j in np.arange(comb[0].shape[0]):\n",
        "            dist = np.linalg.norm(y - A_new[:,comb[0][j,:]][:,0]-A_new[:,comb[0][j,:]][:,1])\n",
        "           # print(y - A[:,comb[0][j,:]][:,0]-A[:,comb[0][j,:]][:,1])\n",
        "            if dist_min > dist:\n",
        "                dist_min = dist\n",
        "                comb_min = comb[0][j,:].T\n",
        "        \n",
        "        \n",
        "       # print(comb_min)\n",
        "        set_idxs = set(comb_min)\n",
        "        error = error + (T-len(set_idxs&set(perm)))/T\n",
        "\n",
        "\n",
        "\n",
        "        ans = lsq_linear(A_new, y, bounds=[0,1], method='bvls')\n",
        "        \n",
        "        cdws = nlargest(N_list, enumerate(ans.x), key=lambda x: x[1])\n",
        "        \n",
        "        cdws = sorted(cdws)\n",
        "        \n",
        "        cdw_idx = [cdws[i][0] for i in range(N_list)]\n",
        "       # print(cdw_idx)\n",
        "        \n",
        "        comb = np.array([list(itertools.combinations(cdw_idx, T))])\n",
        "       # print(A[:,comb[0][1,:]][:,0],)\n",
        "        dist_min = 100000\n",
        "        \n",
        "        \n",
        "        for j in np.arange(comb[0].shape[0]):\n",
        "            dist = np.linalg.norm(y - A_new[:,comb[0][j,:]][:,0]-A_new[:,comb[0][j,:]][:,1])\n",
        "           # print(y - A[:,comb[0][j,:]][:,0]-A[:,comb[0][j,:]][:,1])\n",
        "            if dist_min > dist:\n",
        "                dist_min = dist\n",
        "                comb_min = comb[0][j,:].T\n",
        "        \n",
        "        \n",
        "       # print(comb_min)\n",
        "        set_idxs = set(comb_min)\n",
        "        error_bvls = error_bvls + (T-len(set_idxs&set(perm)))/T     \n",
        "\n",
        "\n",
        "\n",
        "\n",
        "        ans = np.array([nnls(A_new,y)],dtype=object)[0,0]\n",
        "        \n",
        "        cdws = nlargest(N_list, enumerate(np.abs(ans)), key=lambda x: x[1])\n",
        "        \n",
        "        cdws = sorted(cdws)\n",
        "        \n",
        "        cdw_idx = [cdws[i][0] for i in range(N_list)]\n",
        "       # print(cdw_idx)\n",
        "        \n",
        "        comb = np.array([list(itertools.combinations(cdw_idx, T))])\n",
        "       # print(A[:,comb[0][1,:]][:,0],)\n",
        "        dist_min = 100000\n",
        "        \n",
        "        \n",
        "        for j in np.arange(comb[0].shape[0]):\n",
        "            dist = np.linalg.norm(y - A_new[:,comb[0][j,:]][:,0]-A_new[:,comb[0][j,:]][:,1])\n",
        "           # print(y - A[:,comb[0][j,:]][:,0]-A[:,comb[0][j,:]][:,1])\n",
        "            if dist_min > dist:\n",
        "                dist_min = dist\n",
        "                comb_min = comb[0][j,:].T\n",
        "        \n",
        "        \n",
        "       # print(comb_min)\n",
        "        set_idxs = set(comb_min)\n",
        "        error_nnls = error_nnls + (T-len(set_idxs&set(perm)))/T\n",
        "\n",
        "\n",
        "\n",
        "        Q, R = np.linalg.qr(A_new, mode=\"complete\")\n",
        "        b_qr = np.linalg.pinv(R) @ np.conj(Q.T) @ y \n",
        "        cdws = nlargest(N_list, enumerate(b_qr), key=lambda x: x[1])\n",
        "        \n",
        "        cdws = sorted(cdws)\n",
        "        \n",
        "        cdw_idx = [cdws[i][0] for i in range(N_list)]\n",
        "       # print(cdw_idx)\n",
        "        \n",
        "        comb = np.array([list(itertools.combinations(cdw_idx, T))])\n",
        "       # print(A[:,comb[0][1,:]][:,0],)\n",
        "        dist_min = 100000\n",
        "        \n",
        "        \n",
        "        for j in np.arange(comb[0].shape[0]):\n",
        "            dist = np.linalg.norm(y - A_new[:,comb[0][j,:]][:,0]-A_new[:,comb[0][j,:]][:,1])\n",
        "           # print(y - A[:,comb[0][j,:]][:,0]-A[:,comb[0][j,:]][:,1])\n",
        "            if dist_min > dist:\n",
        "                dist_min = dist\n",
        "                comb_min = comb[0][j,:].T\n",
        "        \n",
        "        \n",
        "       # print(comb_min)\n",
        "        set_idxs = set(comb_min)\n",
        "        error_qr = error_qr + (T-len(set_idxs&set(perm)))/T\n",
        "        \n",
        "        test = test+1\n",
        "    Pr_error_cs[0,i]=error/test\n",
        "    Pr_error_l_bvls[0,i]=error_bvls/test\n",
        "    Pr_error_l_nnls[0,i]=error_nnls/test\n",
        "    Pr_error_l_qr[0,i]=error_qr/test"
      ],
      "execution_count": null,
      "outputs": []
    },
    {
      "cell_type": "code",
      "metadata": {
        "colab": {
          "base_uri": "https://localhost:8080/"
        },
        "id": "ttQGCFsFXhq5",
        "outputId": "621299a2-c745-4592-bad4-7f6d3a6baf31"
      },
      "source": [
        "Pr_error_cs, Pr_error_l_bvls, Pr_error_l_nnls, Pr_error_l_qr"
      ],
      "execution_count": null,
      "outputs": [
        {
          "output_type": "execute_result",
          "data": {
            "text/plain": [
              "(array([[0.7075, 0.7325, 0.5725, 0.5475, 0.475 , 0.4125, 0.4025, 0.405 ,\n",
              "         0.395 , 0.3825, 0.355 , 0.3725, 0.3875]]),\n",
              " array([[0.645 , 0.6475, 0.575 , 0.5025, 0.4825, 0.47  , 0.5025, 0.465 ,\n",
              "         0.445 , 0.455 , 0.4075, 0.44  , 0.4425]]),\n",
              " array([[0.79  , 0.77  , 0.7125, 0.6475, 0.58  , 0.5725, 0.4925, 0.475 ,\n",
              "         0.4275, 0.43  , 0.425 , 0.4175, 0.405 ]]),\n",
              " array([[0.6075, 0.6125, 0.525 , 0.4575, 0.425 , 0.41  , 0.38  , 0.3775,\n",
              "         0.355 , 0.375 , 0.3675, 0.3475, 0.3775]]))"
            ]
          },
          "metadata": {
            "tags": []
          },
          "execution_count": 130
        }
      ]
    },
    {
      "cell_type": "code",
      "metadata": {
        "id": "N_6yN23qXiD2"
      },
      "source": [
        ""
      ],
      "execution_count": null,
      "outputs": []
    },
    {
      "cell_type": "code",
      "metadata": {
        "id": "rqc47iAnXiJR"
      },
      "source": [
        ""
      ],
      "execution_count": null,
      "outputs": []
    },
    {
      "cell_type": "code",
      "metadata": {
        "id": "TzCW1mpuuD4-"
      },
      "source": [
        "lasso = linear_model.Lasso(alpha=0.001)# here, we use lasso to minimize the L1 norm\n",
        "N_list = T\n",
        "Pr_error_cs_T = np.zeros((1,len(SNR_array)))\n",
        "\n",
        "for i in np.arange(len(sigma_array)):\n",
        "    sigma = sigma_array[i]\n",
        "    error = 0\n",
        "    #error_perUser = 0\n",
        "    test = 0\n",
        "    size_ = 100\n",
        "    while test < 100:\n",
        "        b = np.zeros((size_,1))\n",
        "        perm = np.random.permutation(size_)[:T] # indexes of transmitted messages\n",
        "        b[perm,0] = 1\n",
        "\n",
        "        y = A[:, choice]@b + np.array([np.random.normal(loc=0.0, scale=sigma*sigma, size=A.shape[0])]).T\n",
        "        y = np.reshape(y, (1,np.product(y.shape)))[0]\n",
        "        \n",
        "        #Compressive sensing\n",
        "        \n",
        "        lasso.fit(D, y)\n",
        "        # recons = idct(lasso.coef_, axis=0)\n",
        "        # num_code = np.argsort(np.abs(recons))[-5:]\n",
        "        \n",
        "        ans = idct(lasso.coef_, axis=0)\n",
        "        \n",
        "        cdws = nlargest(N_list, enumerate(np.abs(ans)), key=lambda x: x[1])\n",
        "        \n",
        "        cdws = sorted(cdws)\n",
        "        \n",
        "        cdw_idx = [cdws[i][0] for i in range(N_list)]\n",
        "       # print(cdw_idx)\n",
        "        \n",
        "        comb = np.array([list(itertools.combinations(cdw_idx, T))])\n",
        "       # print(A[:,comb[0][1,:]][:,0],)\n",
        "        dist_min = 100000\n",
        "        \n",
        "        \n",
        "        for j in np.arange(comb[0].shape[0]):\n",
        "            dist = np.linalg.norm(y - A[:,comb[0][j,:]][:,0]-A[:,comb[0][j,:]][:,1])\n",
        "           # print(y - A[:,comb[0][j,:]][:,0]-A[:,comb[0][j,:]][:,1])\n",
        "            if dist_min > dist:\n",
        "                dist_min = dist\n",
        "                comb_min = comb[0][j,:].T\n",
        "        \n",
        "        \n",
        "       # print(comb_min)\n",
        "        set_idxs = set(comb_min)\n",
        "\n",
        "        error = error + (T-len(set_idxs&set(perm)))/T     \n",
        "        \n",
        "        test = test+1\n",
        "    Pr_error_cs_T[0,i]=error/test\n",
        "    print(Pr_error_cs_T)"
      ],
      "execution_count": null,
      "outputs": []
    },
    {
      "cell_type": "code",
      "metadata": {
        "colab": {
          "base_uri": "https://localhost:8080/"
        },
        "id": "L9rtGAuouEE6",
        "outputId": "10851d3d-0807-45a6-ba10-374e3dca2e5a"
      },
      "source": [
        "Pr_error_cs_T"
      ],
      "execution_count": null,
      "outputs": [
        {
          "output_type": "execute_result",
          "data": {
            "text/plain": [
              "array([[0.93 , 0.86 , 0.87 , 0.71 , 0.67 , 0.455, 0.405, 0.33 , 0.295,\n",
              "        0.235, 0.185, 0.21 , 0.215]])"
            ]
          },
          "metadata": {
            "tags": []
          },
          "execution_count": 88
        }
      ]
    },
    {
      "cell_type": "code",
      "metadata": {
        "colab": {
          "base_uri": "https://localhost:8080/",
          "height": 164
        },
        "id": "D13MPGPLopP1",
        "outputId": "985188af-1ec5-4c72-f68e-711ac3f1d691"
      },
      "source": [
        "matplotlib.pyplot.semilogy(SNR_array,np.reshape(Pr_error, (1,np.product(Pr_error.shape)))[0])"
      ],
      "execution_count": null,
      "outputs": [
        {
          "output_type": "error",
          "ename": "NameError",
          "evalue": "ignored",
          "traceback": [
            "\u001b[0;31m---------------------------------------------------------------------------\u001b[0m",
            "\u001b[0;31mNameError\u001b[0m                                 Traceback (most recent call last)",
            "\u001b[0;32m<ipython-input-49-47dbdacfe532>\u001b[0m in \u001b[0;36m<module>\u001b[0;34m()\u001b[0m\n\u001b[0;32m----> 1\u001b[0;31m \u001b[0mmatplotlib\u001b[0m\u001b[0;34m.\u001b[0m\u001b[0mpyplot\u001b[0m\u001b[0;34m.\u001b[0m\u001b[0msemilogy\u001b[0m\u001b[0;34m(\u001b[0m\u001b[0mSNR_array\u001b[0m\u001b[0;34m,\u001b[0m\u001b[0mnp\u001b[0m\u001b[0;34m.\u001b[0m\u001b[0mreshape\u001b[0m\u001b[0;34m(\u001b[0m\u001b[0mPr_error\u001b[0m\u001b[0;34m,\u001b[0m \u001b[0;34m(\u001b[0m\u001b[0;36m1\u001b[0m\u001b[0;34m,\u001b[0m\u001b[0mnp\u001b[0m\u001b[0;34m.\u001b[0m\u001b[0mproduct\u001b[0m\u001b[0;34m(\u001b[0m\u001b[0mPr_error\u001b[0m\u001b[0;34m.\u001b[0m\u001b[0mshape\u001b[0m\u001b[0;34m)\u001b[0m\u001b[0;34m)\u001b[0m\u001b[0;34m)\u001b[0m\u001b[0;34m[\u001b[0m\u001b[0;36m0\u001b[0m\u001b[0;34m]\u001b[0m\u001b[0;34m)\u001b[0m\u001b[0;34m\u001b[0m\u001b[0;34m\u001b[0m\u001b[0m\n\u001b[0m",
            "\u001b[0;31mNameError\u001b[0m: name 'matplotlib' is not defined"
          ]
        }
      ]
    },
    {
      "cell_type": "markdown",
      "metadata": {
        "id": "6N3Tua--opTX"
      },
      "source": [
        "### 3.5 QR decomposition"
      ]
    },
    {
      "cell_type": "markdown",
      "metadata": {
        "id": "ZJmCC2t_Mx0V"
      },
      "source": [
        "$$A = QR$$\n",
        "\n",
        "$$\\widehat{\\mathbf{b}} = A^\\dagger \\mathbf{y} = \\left(A^\\ast A\\right)^{-1}A^\\ast \\mathbf{y} = \\left(R^\\ast Q^\\ast Q R\\right)^{-1}R^\\ast Q^\\ast \\mathbf{y} = R^\\dagger Q^\\ast \\mathbf{y}$$"
      ]
    },
    {
      "cell_type": "code",
      "metadata": {
        "id": "aA3CXfgUN5ek"
      },
      "source": [
        "num_tests = 2000\n",
        "N_list = T\n",
        "N0 = 10**(-SNR_array/10)\n",
        "sigma_array = np.sqrt(N0/2)\n",
        "Pr_error_T_qr = np.zeros((1,len(SNR_array)))\n",
        "\n",
        "Mp = 2**k\n",
        "\n",
        "for i in np.arange(len(sigma_array)):\n",
        "    sigma = sigma_array[i]\n",
        "    error = 0\n",
        "    #error_perUser = 0\n",
        "    test = 0\n",
        "    \n",
        "    while test < num_tests:\n",
        "        b = np.zeros((Mp,1))\n",
        "        perm = np.random.permutation(Mp)[:T] # indexes of transmitted messages\n",
        "        b[perm, 0] = 1\n",
        "\n",
        "        y = A @ b + np.array([np.random.normal(loc=0.0, scale=sigma**2, size=A.shape[0])]).T\n",
        "        y = np.reshape(y, (1,np.product(y.shape)))[0]\n",
        "        \n",
        "        Q, R = np.linalg.qr(A, mode=\"complete\")\n",
        "        b_qr = np.linalg.pinv(R) @ np.conj(Q.T) @ y \n",
        "\n",
        "        cdws = nlargest(N_list, enumerate(b_qr), key=lambda x: x[1])\n",
        "        cdws = sorted(cdws)\n",
        "\n",
        "        set_idxs = set([cdws[i][0] for i in range(T)])\n",
        "\n",
        "        error = error + (T-len(set_idxs & set(perm)))/T     \n",
        "\n",
        "        test = test + 1\n",
        "    Pr_error_T_qr[0, i] = error / test"
      ],
      "execution_count": null,
      "outputs": []
    },
    {
      "cell_type": "code",
      "metadata": {
        "id": "XNFhjfnjOAkP"
      },
      "source": [
        "num_tests = 2000\n",
        "N_list = 10\n",
        "N0 = 10**(-SNR_array/10)\n",
        "sigma_array = np.sqrt(N0/2)\n",
        "Pr_error_qr = np.zeros((1,len(SNR_array)))\n",
        "T = 2\n",
        "\n",
        "Mp = 2**k\n",
        "\n",
        "for i in np.arange(len(sigma_array)):\n",
        "    sigma = sigma_array[i]\n",
        "    error = 0\n",
        "    #error_perUser = 0\n",
        "    test = 0\n",
        "    \n",
        "    while test < num_tests:\n",
        "        b = np.zeros((Mp,1))\n",
        "        perm = np.random.permutation(Mp)[:T] # indexes of transmitted messages\n",
        "        b[perm,0] = 1\n",
        "\n",
        "        y = A@b + np.array([np.random.normal(loc=0.0, scale=sigma*sigma, size=A.shape[0])]).T\n",
        "        y = np.reshape(y, (1,np.product(y.shape)))[0]\n",
        "        \n",
        "        \n",
        "        Q, R = np.linalg.qr(A, mode=\"complete\")\n",
        "        b_qr = np.linalg.pinv(R) @ np.conj(Q.T) @ y \n",
        "        \n",
        "        cdws = nlargest(N_list, enumerate(b_qr), key=lambda x: x[1])\n",
        "        \n",
        "        cdws = sorted(cdws)\n",
        "        \n",
        "        cdw_idx = [cdws[i][0] for i in range(N_list)]\n",
        "       # print(cdw_idx)\n",
        "        \n",
        "        comb = np.array([list(itertools.combinations(cdw_idx, T))])\n",
        "       # print(A[:,comb[0][1,:]][:,0],)\n",
        "        dist_min = 100000\n",
        "        \n",
        "        \n",
        "        for j in np.arange(comb[0].shape[0]):\n",
        "            dist = np.linalg.norm(y - A[:,comb[0][j,:]][:,0]-A[:,comb[0][j,:]][:,1])\n",
        "           # print(y - A[:,comb[0][j,:]][:,0]-A[:,comb[0][j,:]][:,1])\n",
        "            if dist_min > dist:\n",
        "                dist_min = dist\n",
        "                comb_min = comb[0][j,:].T\n",
        "        \n",
        "        \n",
        "       # print(comb_min)\n",
        "        set_idxs = set(comb_min)\n",
        "\n",
        "        error = error + (T-len(set_idxs&set(perm)))/T     \n",
        "        \n",
        "        test = test+1\n",
        "    Pr_error_qr[0,i]=error/test"
      ],
      "execution_count": null,
      "outputs": []
    },
    {
      "cell_type": "code",
      "metadata": {
        "colab": {
          "base_uri": "https://localhost:8080/"
        },
        "id": "GIyTiX1ioau0",
        "outputId": "fe32ccb4-ad42-4650-e4d4-ba1804bef809"
      },
      "source": [
        "Pr_error_qr"
      ],
      "execution_count": null,
      "outputs": [
        {
          "output_type": "execute_result",
          "data": {
            "text/plain": [
              "array([[0.89925, 0.84225, 0.715  , 0.515  , 0.28025, 0.094  , 0.0235 ,\n",
              "        0.0225 , 0.015  , 0.0115 , 0.0115 , 0.015  , 0.0155 ]])"
            ]
          },
          "metadata": {
            "tags": []
          },
          "execution_count": 16
        }
      ]
    },
    {
      "cell_type": "code",
      "metadata": {
        "colab": {
          "base_uri": "https://localhost:8080/",
          "height": 404
        },
        "id": "Ab7CD8HxOUEN",
        "outputId": "151c89d8-2a67-4c62-e360-691f337cc442"
      },
      "source": [
        "fig, ax = plt.subplots(1, 1, figsize=(10, 6))\n",
        "ax.semilogy(SNR_array, np.reshape(Pr_error_qr, (1, np.product(Pr_error_qr.shape)))[0], label=\"N_list=10\")\n",
        "ax.semilogy(SNR_array, np.reshape(Pr_error_T_qr, (1,np.product(Pr_error_T_qr.shape)))[0],label=\"N_list=T\")\n",
        "\n",
        "ax.set_title(\"QR decomposition\")\n",
        "ax.set_xlabel(\"SNR\")\n",
        "ax.set_ylabel(\"Error probability\")\n",
        "ax.legend()\n",
        "plt.show()"
      ],
      "execution_count": null,
      "outputs": [
        {
          "output_type": "display_data",
          "data": {
            "image/png": "[encoded data removed]",
            "text/plain": [
              "<Figure size 720x432 with 1 Axes>"
            ]
          },
          "metadata": {
            "tags": [],
            "needs_background": "light"
          }
        }
      ]
    },
    {
      "cell_type": "code",
      "metadata": {
        "id": "cay7r_MkI56G"
      },
      "source": [
        ""
      ],
      "execution_count": null,
      "outputs": []
    },
    {
      "cell_type": "markdown",
      "metadata": {
        "id": "wpRhsnMYDwPB"
      },
      "source": [
        "## 4. Comparison for different $T$"
      ]
    },
    {
      "cell_type": "code",
      "metadata": {
        "id": "B8GnOVncEuuP"
      },
      "source": [
        "import itertools\r\n"
      ],
      "execution_count": null,
      "outputs": []
    },
    {
      "cell_type": "markdown",
      "metadata": {
        "id": "1rUL-9CXJuE0"
      },
      "source": [
        "### 4.1 QR"
      ]
    },
    {
      "cell_type": "markdown",
      "metadata": {
        "id": "QmKZbk7xEFs5"
      },
      "source": [
        "Here we used QR decomposition to compare decoding perfomance for different $T$"
      ]
    },
    {
      "cell_type": "markdown",
      "metadata": {
        "id": "KjDHwW2iFXq9"
      },
      "source": [
        "T = 3:"
      ]
    },
    {
      "cell_type": "code",
      "metadata": {
        "colab": {
          "base_uri": "https://localhost:8080/"
        },
        "id": "9FiC_1y2D26p",
        "outputId": "927b8188-a276-4d63-9452-b824afa3b8a9"
      },
      "source": [
        "num_tests = 2000\r\n",
        "T = 3\r\n",
        "N_list = 10\r\n",
        "N0 = 10**(-SNR_array/10)\r\n",
        "sigma_array = np.sqrt(N0/2)\r\n",
        "Pr_error_qr_T3 = np.zeros((1,len(SNR_array)))\r\n",
        "\r\n",
        "Mp = 2**k\r\n",
        "\r\n",
        "for i in np.arange(len(sigma_array)):\r\n",
        "    sigma = sigma_array[i]\r\n",
        "    error = 0\r\n",
        "    #error_perUser = 0\r\n",
        "    test = 0\r\n",
        "    \r\n",
        "    while test < num_tests:\r\n",
        "        b = np.zeros((Mp,1))\r\n",
        "        perm = np.random.permutation(Mp)[:T] # indexes of transmitted messages\r\n",
        "        b[perm,0] = 1\r\n",
        "\r\n",
        "        y = A@b + np.array([np.random.normal(loc=0.0, scale=sigma*sigma, size=A.shape[0])]).T\r\n",
        "        y = np.reshape(y, (1,np.product(y.shape)))[0]\r\n",
        "        \r\n",
        "        \r\n",
        "        Q, R = np.linalg.qr(A, mode=\"complete\")\r\n",
        "        b_qr = np.linalg.pinv(R) @ np.conj(Q.T) @ y \r\n",
        "        \r\n",
        "        cdws = nlargest(N_list, enumerate(b_qr), key=lambda x: x[1])\r\n",
        "        cdws = sorted(cdws)\r\n",
        "        cdw_idx = [cdws[i][0] for i in range(N_list)]\r\n",
        "        comb = np.array([list(itertools.combinations(cdw_idx, T))])\r\n",
        "\r\n",
        "        dist_min = 100000      \r\n",
        "        \r\n",
        "        for j in np.arange(comb[0].shape[0]):\r\n",
        "            dist = np.linalg.norm(y - A[:,comb[0][j,:]][:,0]-A[:,comb[0][j,:]][:,1] -A[:,comb[0][j,:]][:,2] )\r\n",
        "           # print(y - A[:,comb[0][j,:]][:,0]-A[:,comb[0][j,:]][:,1])\r\n",
        "            if dist_min > dist:\r\n",
        "                dist_min = dist\r\n",
        "                comb_min = comb[0][j,:].T\r\n",
        "        \r\n",
        "        \r\n",
        "       # print(comb_min)\r\n",
        "        set_idxs = set(comb_min)\r\n",
        "\r\n",
        "        error = error + (T-len(set_idxs&set(perm)))/T     \r\n",
        "        \r\n",
        "        test = test+1\r\n",
        "    Pr_error_qr_T3[0,i]=error/test\r\n",
        "    print(Pr_error_qr_T3)"
      ],
      "execution_count": null,
      "outputs": [
        {
          "output_type": "stream",
          "text": [
            "[[0.89416667 0.         0.         0.         0.         0.\n",
            "  0.         0.         0.         0.         0.         0.\n",
            "  0.        ]]\n",
            "[[0.89416667 0.83066667 0.         0.         0.         0.\n",
            "  0.         0.         0.         0.         0.         0.\n",
            "  0.        ]]\n",
            "[[0.89416667 0.83066667 0.75383333 0.         0.         0.\n",
            "  0.         0.         0.         0.         0.         0.\n",
            "  0.        ]]\n",
            "[[0.89416667 0.83066667 0.75383333 0.62233333 0.         0.\n",
            "  0.         0.         0.         0.         0.         0.\n",
            "  0.        ]]\n",
            "[[0.89416667 0.83066667 0.75383333 0.62233333 0.4705     0.\n",
            "  0.         0.         0.         0.         0.         0.\n",
            "  0.        ]]\n",
            "[[0.89416667 0.83066667 0.75383333 0.62233333 0.4705     0.34116667\n",
            "  0.         0.         0.         0.         0.         0.\n",
            "  0.        ]]\n",
            "[[0.89416667 0.83066667 0.75383333 0.62233333 0.4705     0.34116667\n",
            "  0.23916667 0.         0.         0.         0.         0.\n",
            "  0.        ]]\n",
            "[[0.89416667 0.83066667 0.75383333 0.62233333 0.4705     0.34116667\n",
            "  0.23916667 0.18066667 0.         0.         0.         0.\n",
            "  0.        ]]\n",
            "[[0.89416667 0.83066667 0.75383333 0.62233333 0.4705     0.34116667\n",
            "  0.23916667 0.18066667 0.1565     0.         0.         0.\n",
            "  0.        ]]\n",
            "[[0.89416667 0.83066667 0.75383333 0.62233333 0.4705     0.34116667\n",
            "  0.23916667 0.18066667 0.1565     0.14166667 0.         0.\n",
            "  0.        ]]\n",
            "[[0.89416667 0.83066667 0.75383333 0.62233333 0.4705     0.34116667\n",
            "  0.23916667 0.18066667 0.1565     0.14166667 0.1335     0.\n",
            "  0.        ]]\n",
            "[[0.89416667 0.83066667 0.75383333 0.62233333 0.4705     0.34116667\n",
            "  0.23916667 0.18066667 0.1565     0.14166667 0.1335     0.1125\n",
            "  0.        ]]\n",
            "[[0.89416667 0.83066667 0.75383333 0.62233333 0.4705     0.34116667\n",
            "  0.23916667 0.18066667 0.1565     0.14166667 0.1335     0.1125\n",
            "  0.12383333]]\n"
          ],
          "name": "stdout"
        }
      ]
    },
    {
      "cell_type": "markdown",
      "metadata": {
        "id": "4VXMw2AdFb2T"
      },
      "source": [
        "T = 4:"
      ]
    },
    {
      "cell_type": "code",
      "metadata": {
        "colab": {
          "base_uri": "https://localhost:8080/"
        },
        "id": "xYtSo4cCFdPn",
        "outputId": "a78b41bc-80ba-4942-a5a9-0e3a6d03b715"
      },
      "source": [
        "T = 4\r\n",
        "Pr_error_qr_T4 = np.zeros((1,len(SNR_array)))\r\n",
        "\r\n",
        "for i in np.arange(len(sigma_array)):\r\n",
        "    sigma = sigma_array[i]\r\n",
        "    error = 0\r\n",
        "    test = 0\r\n",
        "    \r\n",
        "    while test < num_tests:\r\n",
        "        b = np.zeros((Mp,1))\r\n",
        "        perm = np.random.permutation(Mp)[:T] # indexes of transmitted messages\r\n",
        "        b[perm,0] = 1\r\n",
        "\r\n",
        "        y = A@b + np.array([np.random.normal(loc=0.0, scale=sigma*sigma, size=A.shape[0])]).T\r\n",
        "        y = np.reshape(y, (1,np.product(y.shape)))[0]\r\n",
        "        \r\n",
        "        \r\n",
        "        Q, R = np.linalg.qr(A, mode=\"complete\")\r\n",
        "        b_qr = np.linalg.pinv(R) @ np.conj(Q.T) @ y \r\n",
        "        \r\n",
        "        cdws = nlargest(N_list, enumerate(b_qr), key=lambda x: x[1])\r\n",
        "        cdws = sorted(cdws)\r\n",
        "        cdw_idx = [cdws[i][0] for i in range(N_list)]\r\n",
        "        comb = np.array([list(itertools.combinations(cdw_idx, T))])\r\n",
        "\r\n",
        "        dist_min = 100000      \r\n",
        "        \r\n",
        "        for j in np.arange(comb[0].shape[0]):\r\n",
        "            dist = np.linalg.norm(y - A[:,comb[0][j,:]][:,0] - A[:,comb[0][j,:]][:,1] -A[:,comb[0][j,:]][:,2] - A[:,comb[0][j,:]][:,3])\r\n",
        "            if dist_min > dist:\r\n",
        "                dist_min = dist\r\n",
        "                comb_min = comb[0][j,:].T\r\n",
        "        \r\n",
        "        \r\n",
        "       # print(comb_min)\r\n",
        "        set_idxs = set(comb_min)\r\n",
        "\r\n",
        "        error = error + (T-len(set_idxs&set(perm)))/T     \r\n",
        "        \r\n",
        "        test = test+1\r\n",
        "    Pr_error_qr_T4[0,i]=error/test\r\n",
        "    print(Pr_error_qr_T4)"
      ],
      "execution_count": null,
      "outputs": [
        {
          "output_type": "stream",
          "text": [
            "[[0.89025 0.      0.      0.      0.      0.      0.      0.      0.\n",
            "  0.      0.      0.      0.     ]]\n",
            "[[0.89025 0.842   0.      0.      0.      0.      0.      0.      0.\n",
            "  0.      0.      0.      0.     ]]\n",
            "[[0.89025  0.842    0.777625 0.       0.       0.       0.       0.\n",
            "  0.       0.       0.       0.       0.      ]]\n",
            "[[0.89025  0.842    0.777625 0.69175  0.       0.       0.       0.\n",
            "  0.       0.       0.       0.       0.      ]]\n",
            "[[0.89025  0.842    0.777625 0.69175  0.610875 0.       0.       0.\n",
            "  0.       0.       0.       0.       0.      ]]\n",
            "[[0.89025  0.842    0.777625 0.69175  0.610875 0.51275  0.       0.\n",
            "  0.       0.       0.       0.       0.      ]]\n",
            "[[0.89025  0.842    0.777625 0.69175  0.610875 0.51275  0.4495   0.\n",
            "  0.       0.       0.       0.       0.      ]]\n",
            "[[0.89025  0.842    0.777625 0.69175  0.610875 0.51275  0.4495   0.39975\n",
            "  0.       0.       0.       0.       0.      ]]\n",
            "[[0.89025  0.842    0.777625 0.69175  0.610875 0.51275  0.4495   0.39975\n",
            "  0.37775  0.       0.       0.       0.      ]]\n",
            "[[0.89025  0.842    0.777625 0.69175  0.610875 0.51275  0.4495   0.39975\n",
            "  0.37775  0.344625 0.       0.       0.      ]]\n",
            "[[0.89025  0.842    0.777625 0.69175  0.610875 0.51275  0.4495   0.39975\n",
            "  0.37775  0.344625 0.3355   0.       0.      ]]\n",
            "[[0.89025  0.842    0.777625 0.69175  0.610875 0.51275  0.4495   0.39975\n",
            "  0.37775  0.344625 0.3355   0.322375 0.      ]]\n",
            "[[0.89025  0.842    0.777625 0.69175  0.610875 0.51275  0.4495   0.39975\n",
            "  0.37775  0.344625 0.3355   0.322375 0.334625]]\n"
          ],
          "name": "stdout"
        }
      ]
    },
    {
      "cell_type": "code",
      "metadata": {
        "colab": {
          "base_uri": "https://localhost:8080/",
          "height": 404
        },
        "id": "AzCV3_CkD1bn",
        "outputId": "72307c33-7c2c-4563-e641-3022ed5b7c45"
      },
      "source": [
        "import matplotlib.pyplot as plt\r\n",
        "fig, ax = plt.subplots(1, 1, figsize=(10, 6))\r\n",
        "ax.semilogy(SNR_array, np.reshape(Pr_error_qr, (1, np.product(Pr_error_qr.shape)))[0], label=\"T=2\")\r\n",
        "ax.semilogy(SNR_array, np.reshape(Pr_error_qr_T3, (1,np.product(Pr_error_qr_T3.shape)))[0],label=\"T=3\")\r\n",
        "ax.semilogy(SNR_array, np.reshape(Pr_error_qr_T4, (1,np.product(Pr_error_qr_T4.shape)))[0],label=\"T=4\")\r\n",
        "\r\n",
        "ax.set_title(\"QR decomposition\")\r\n",
        "ax.set_xlabel(\"SNR\")\r\n",
        "ax.set_ylabel(\"Error probability\")\r\n",
        "ax.legend()\r\n",
        "plt.show()"
      ],
      "execution_count": null,
      "outputs": [
        {
          "output_type": "display_data",
          "data": {
            "image/png": "[encoded data removed]",
            "text/plain": [
              "<Figure size 720x432 with 1 Axes>"
            ]
          },
          "metadata": {
            "tags": [],
            "needs_background": "light"
          }
        }
      ]
    },
    {
      "cell_type": "markdown",
      "metadata": {
        "id": "dDYrN-6pJMDd"
      },
      "source": [
        "For larger T the error is rather high, but still decoder can recognize words \r\n",
        "from their noisy sum"
      ]
    },
    {
      "cell_type": "markdown",
      "metadata": {
        "id": "4xQiXJ1FNshq"
      },
      "source": [
        "### 4.2 NNLS"
      ]
    },
    {
      "cell_type": "markdown",
      "metadata": {
        "id": "br6Y6W0kN2ow"
      },
      "source": [
        "Here we used NNLS to compare decoding perfomance for different $T$"
      ]
    },
    {
      "cell_type": "code",
      "metadata": {
        "id": "8jpqJGhjOnzM"
      },
      "source": [
        "T = 3\r\n",
        "\r\n",
        "Pr_error_nnls_T3 = np.zeros((1,len(SNR_array)))\r\n",
        "\r\n",
        "for i in np.arange(len(sigma_array)):\r\n",
        "    sigma = sigma_array[i]\r\n",
        "    error = 0\r\n",
        "    #error_perUser = 0\r\n",
        "    test = 0\r\n",
        "    \r\n",
        "    while test < num_tests:\r\n",
        "        b = np.zeros((Mp,1))\r\n",
        "        perm = np.random.permutation(Mp)[:T] # indexes of transmitted messages\r\n",
        "        b[perm,0] = 1\r\n",
        "\r\n",
        "        y = A@b + np.array([np.random.normal(loc=0.0, scale=sigma*sigma, size=A.shape[0])]).T\r\n",
        "        y = np.reshape(y, (1,np.product(y.shape)))[0]\r\n",
        "        \r\n",
        "        #Non-negative least squares\r\n",
        "        \r\n",
        "        b_ls = np.array([nnls(A,y)],dtype=object)[0,0]\r\n",
        "        \r\n",
        "        cdws = nlargest(N_list, enumerate(b_ls), key=lambda x: x[1])\r\n",
        "        cdws = sorted(cdws)\r\n",
        "        cdw_idx = [cdws[i][0] for i in range(N_list)]  \r\n",
        "        comb = np.array([list(itertools.combinations(cdw_idx, T))])\r\n",
        "        dist_min = 100000\r\n",
        "        \r\n",
        "        \r\n",
        "        for j in np.arange(comb[0].shape[0]):\r\n",
        "            dist = np.linalg.norm(y - A[:,comb[0][j,:]][:,0]-A[:,comb[0][j,:]][:,1] - A[:,comb[0][j,:]][:,2])\r\n",
        "            if dist_min > dist:\r\n",
        "                dist_min = dist\r\n",
        "                comb_min = comb[0][j,:].T\r\n",
        "\r\n",
        "        set_idxs = set(comb_min)\r\n",
        "\r\n",
        "        error = error + (T-len(set_idxs&set(perm)))/T     \r\n",
        "        \r\n",
        "        test = test+1\r\n",
        "    Pr_error_nnls_T3[0,i]=error/test"
      ],
      "execution_count": null,
      "outputs": []
    },
    {
      "cell_type": "code",
      "metadata": {
        "id": "6MVr4rPvPFE7",
        "colab": {
          "base_uri": "https://localhost:8080/",
          "height": 235
        },
        "outputId": "3c49dec2-ea40-4cca-dd99-cf6c0408bf1e"
      },
      "source": [
        "T = 4\r\n",
        "\r\n",
        "Pr_error_nnls_T4 = np.zeros((1,len(SNR_array)))\r\n",
        "\r\n",
        "for i in np.arange(len(sigma_array)):\r\n",
        "    sigma = sigma_array[i]\r\n",
        "    error = 0\r\n",
        "    #error_perUser = 0\r\n",
        "    test = 0\r\n",
        "    \r\n",
        "    while test < num_tests:\r\n",
        "        b = np.zeros((Mp,1))\r\n",
        "        perm = np.random.permutation(Mp)[:T] # indexes of transmitted messages\r\n",
        "        b[perm,0] = 1\r\n",
        "\r\n",
        "        y = A@b + np.array([np.random.normal(loc=0.0, scale=sigma*sigma, size=A.shape[0])]).T\r\n",
        "        y = np.reshape(y, (1,np.product(y.shape)))[0]\r\n",
        "        \r\n",
        "        #Non-negative least squares\r\n",
        "        \r\n",
        "        b_ls = np.array([nnls(A,y)],dtype=object)[0,0]\r\n",
        "        \r\n",
        "        cdws = nlargest(N_list, enumerate(b_ls), key=lambda x: x[1])\r\n",
        "        cdws = sorted(cdws)\r\n",
        "        cdw_idx = [cdws[i][0] for i in range(N_list)]  \r\n",
        "        comb = np.array([list(itertools.combinations(cdw_idx, T))])\r\n",
        "        dist_min = 100000\r\n",
        "        \r\n",
        "        \r\n",
        "        for j in np.arange(comb[0].shape[0]):\r\n",
        "            dist = np.linalg.norm(y - A[:,comb[0][j,:]][:,0]-A[:,comb[0][j,:]][:,1] - A[:,comb[0][j,:]][:,2] - A[:,comb[0][j,:]][:,3])\r\n",
        "            if dist_min > dist:\r\n",
        "                dist_min = dist\r\n",
        "                comb_min = comb[0][j,:].T\r\n",
        "\r\n",
        "        set_idxs = set(comb_min)\r\n",
        "\r\n",
        "        error = error + (T-len(set_idxs&set(perm)))/T     \r\n",
        "        \r\n",
        "        test = test+1\r\n",
        "    Pr_error_nnls_T4[0,i]=error/test"
      ],
      "execution_count": null,
      "outputs": [
        {
          "output_type": "error",
          "ename": "NameError",
          "evalue": "ignored",
          "traceback": [
            "\u001b[0;31m---------------------------------------------------------------------------\u001b[0m",
            "\u001b[0;31mNameError\u001b[0m                                 Traceback (most recent call last)",
            "\u001b[0;32m<ipython-input-10-063976fc27fc>\u001b[0m in \u001b[0;36m<module>\u001b[0;34m()\u001b[0m\n\u001b[1;32m      3\u001b[0m \u001b[0mPr_error_nnls_T4\u001b[0m \u001b[0;34m=\u001b[0m \u001b[0mnp\u001b[0m\u001b[0;34m.\u001b[0m\u001b[0mzeros\u001b[0m\u001b[0;34m(\u001b[0m\u001b[0;34m(\u001b[0m\u001b[0;36m1\u001b[0m\u001b[0;34m,\u001b[0m\u001b[0mlen\u001b[0m\u001b[0;34m(\u001b[0m\u001b[0mSNR_array\u001b[0m\u001b[0;34m)\u001b[0m\u001b[0;34m)\u001b[0m\u001b[0;34m)\u001b[0m\u001b[0;34m\u001b[0m\u001b[0;34m\u001b[0m\u001b[0m\n\u001b[1;32m      4\u001b[0m \u001b[0;34m\u001b[0m\u001b[0m\n\u001b[0;32m----> 5\u001b[0;31m \u001b[0;32mfor\u001b[0m \u001b[0mi\u001b[0m \u001b[0;32min\u001b[0m \u001b[0mnp\u001b[0m\u001b[0;34m.\u001b[0m\u001b[0marange\u001b[0m\u001b[0;34m(\u001b[0m\u001b[0mlen\u001b[0m\u001b[0;34m(\u001b[0m\u001b[0msigma_array\u001b[0m\u001b[0;34m)\u001b[0m\u001b[0;34m)\u001b[0m\u001b[0;34m:\u001b[0m\u001b[0;34m\u001b[0m\u001b[0;34m\u001b[0m\u001b[0m\n\u001b[0m\u001b[1;32m      6\u001b[0m     \u001b[0msigma\u001b[0m \u001b[0;34m=\u001b[0m \u001b[0msigma_array\u001b[0m\u001b[0;34m[\u001b[0m\u001b[0mi\u001b[0m\u001b[0;34m]\u001b[0m\u001b[0;34m\u001b[0m\u001b[0;34m\u001b[0m\u001b[0m\n\u001b[1;32m      7\u001b[0m     \u001b[0merror\u001b[0m \u001b[0;34m=\u001b[0m \u001b[0;36m0\u001b[0m\u001b[0;34m\u001b[0m\u001b[0;34m\u001b[0m\u001b[0m\n",
            "\u001b[0;31mNameError\u001b[0m: name 'sigma_array' is not defined"
          ]
        }
      ]
    },
    {
      "cell_type": "code",
      "metadata": {
        "id": "8fP6TZ68B778",
        "colab": {
          "base_uri": "https://localhost:8080/"
        },
        "outputId": "4e4efb87-9ac0-4e3b-bad5-d45690b28190"
      },
      "source": [
        "Pr_error_nnls_T4"
      ],
      "execution_count": null,
      "outputs": [
        {
          "output_type": "execute_result",
          "data": {
            "text/plain": [
              "array([[0.912625, 0.864125, 0.819625, 0.734   , 0.62225 , 0.495625,\n",
              "        0.359125, 0.30225 , 0.268625, 0.23225 , 0.216125, 0.2215  ,\n",
              "        0.207625]])"
            ]
          },
          "metadata": {
            "tags": []
          },
          "execution_count": 45
        }
      ]
    },
    {
      "cell_type": "code",
      "metadata": {
        "id": "-XcDX1VCQ0t4"
      },
      "source": [
        "Pr_error = [0.90775, 0.83775, 0.72175, 0.54, 0.2855 , 0.1105 , 0.046  , 0.0195 , 0.0175 , 0.014  , 0.013  , 0.0095 , 0.0065 ]"
      ],
      "execution_count": null,
      "outputs": []
    },
    {
      "cell_type": "code",
      "metadata": {
        "colab": {
          "base_uri": "https://localhost:8080/"
        },
        "id": "7U_Cb4lELiAR",
        "outputId": "68bb57e5-0767-41b5-98b9-69122fef3517"
      },
      "source": [
        "! sudo apt-get install texlive-latex-recommended \r\n",
        "! sudo apt-get install dvipng texlive-latex-extra texlive-fonts-recommended  \r\n",
        "! wget http://mirrors.ctan.org/macros/latex/contrib/type1cm.zip \r\n",
        "! unzip type1cm.zip -d /tmp/type1cm \r\n",
        "! cd /tmp/type1cm/type1cm/ && sudo latex type1cm.ins\r\n",
        "! sudo mkdir /usr/share/texmf/tex/latex/type1cm \r\n",
        "! sudo cp /tmp/type1cm/type1cm/type1cm.sty /usr/share/texmf/tex/latex/type1cm \r\n",
        "! sudo texhash"
      ],
      "execution_count": null,
      "outputs": [
        {
          "output_type": "stream",
          "text": [
            "Reading package lists... Done\n",
            "Building dependency tree       \n",
            "Reading state information... Done\n",
            "The following additional packages will be installed:\n",
            "  fonts-droid-fallback fonts-lmodern fonts-noto-mono libcupsfilters1\n",
            "  libcupsimage2 libgs9 libgs9-common libijs-0.35 libjbig2dec0 libkpathsea6\n",
            "  libpotrace0 libptexenc1 libsynctex1 libtexlua52 libtexluajit2 libzzip-0-13\n",
            "  lmodern poppler-data t1utils tex-common texlive-base texlive-binaries\n",
            "  texlive-latex-base\n",
            "Suggested packages:\n",
            "  fonts-noto poppler-utils ghostscript fonts-japanese-mincho\n",
            "  | fonts-ipafont-mincho fonts-japanese-gothic | fonts-ipafont-gothic\n",
            "  fonts-arphic-ukai fonts-arphic-uming fonts-nanum debhelper gv\n",
            "  | postscript-viewer perl-tk xpdf-reader | pdf-viewer texlive-latex-base-doc\n",
            "  texlive-latex-recommended-doc texlive-pstricks\n",
            "The following NEW packages will be installed:\n",
            "  fonts-droid-fallback fonts-lmodern fonts-noto-mono libcupsfilters1\n",
            "  libcupsimage2 libgs9 libgs9-common libijs-0.35 libjbig2dec0 libkpathsea6\n",
            "  libpotrace0 libptexenc1 libsynctex1 libtexlua52 libtexluajit2 libzzip-0-13\n",
            "  lmodern poppler-data t1utils tex-common texlive-base texlive-binaries\n",
            "  texlive-latex-base texlive-latex-recommended\n",
            "0 upgraded, 24 newly installed, 0 to remove and 14 not upgraded.\n",
            "Need to get 68.4 MB of archives.\n",
            "After this operation, 223 MB of additional disk space will be used.\n",
            "Get:1 http://archive.ubuntu.com/ubuntu bionic/main amd64 fonts-droid-fallback all 1:6.0.1r16-1.1 [1,805 kB]\n",
            "Get:2 http://archive.ubuntu.com/ubuntu bionic/main amd64 poppler-data all 0.4.8-2 [1,479 kB]\n",
            "Get:3 http://archive.ubuntu.com/ubuntu bionic/main amd64 tex-common all 6.09 [33.0 kB]\n",
            "Get:4 http://archive.ubuntu.com/ubuntu bionic/main amd64 fonts-lmodern all 2.004.5-3 [4,551 kB]\n",
            "Get:5 http://archive.ubuntu.com/ubuntu bionic/main amd64 fonts-noto-mono all 20171026-2 [75.5 kB]\n",
            "Get:6 http://archive.ubuntu.com/ubuntu bionic-updates/main amd64 libcupsfilters1 amd64 1.20.2-0ubuntu3.1 [108 kB]\n",
            "Get:7 http://archive.ubuntu.com/ubuntu bionic-updates/main amd64 libcupsimage2 amd64 2.2.7-1ubuntu2.8 [18.6 kB]\n",
            "Get:8 http://archive.ubuntu.com/ubuntu bionic/main amd64 libijs-0.35 amd64 0.35-13 [15.5 kB]\n",
            "Get:9 http://archive.ubuntu.com/ubuntu bionic/main amd64 libjbig2dec0 amd64 0.13-6 [55.9 kB]\n",
            "Get:10 http://archive.ubuntu.com/ubuntu bionic-updates/main amd64 libgs9-common all 9.26~dfsg+0-0ubuntu0.18.04.13 [5,092 kB]\n",
            "Get:11 http://archive.ubuntu.com/ubuntu bionic-updates/main amd64 libgs9 amd64 9.26~dfsg+0-0ubuntu0.18.04.13 [2,263 kB]\n",
            "Get:12 http://archive.ubuntu.com/ubuntu bionic-updates/main amd64 libkpathsea6 amd64 2017.20170613.44572-8ubuntu0.1 [54.9 kB]\n",
            "Get:13 http://archive.ubuntu.com/ubuntu bionic/main amd64 libpotrace0 amd64 1.14-2 [17.4 kB]\n",
            "Get:14 http://archive.ubuntu.com/ubuntu bionic-updates/main amd64 libptexenc1 amd64 2017.20170613.44572-8ubuntu0.1 [34.5 kB]\n",
            "Get:15 http://archive.ubuntu.com/ubuntu bionic-updates/main amd64 libsynctex1 amd64 2017.20170613.44572-8ubuntu0.1 [41.4 kB]\n",
            "Get:16 http://archive.ubuntu.com/ubuntu bionic-updates/main amd64 libtexlua52 amd64 2017.20170613.44572-8ubuntu0.1 [91.2 kB]\n",
            "Get:17 http://archive.ubuntu.com/ubuntu bionic-updates/main amd64 libtexluajit2 amd64 2017.20170613.44572-8ubuntu0.1 [230 kB]\n",
            "Get:18 http://archive.ubuntu.com/ubuntu bionic-updates/main amd64 libzzip-0-13 amd64 0.13.62-3.1ubuntu0.18.04.1 [26.0 kB]\n",
            "Get:19 http://archive.ubuntu.com/ubuntu bionic/main amd64 lmodern all 2.004.5-3 [9,631 kB]\n",
            "Get:20 http://archive.ubuntu.com/ubuntu bionic/main amd64 t1utils amd64 1.41-2 [56.0 kB]\n",
            "Get:21 http://archive.ubuntu.com/ubuntu bionic-updates/main amd64 texlive-binaries amd64 2017.20170613.44572-8ubuntu0.1 [8,179 kB]\n",
            "Get:22 http://archive.ubuntu.com/ubuntu bionic/main amd64 texlive-base all 2017.20180305-1 [18.7 MB]\n",
            "Get:23 http://archive.ubuntu.com/ubuntu bionic/main amd64 texlive-latex-base all 2017.20180305-1 [951 kB]\n",
            "Get:24 http://archive.ubuntu.com/ubuntu bionic/main amd64 texlive-latex-recommended all 2017.20180305-1 [14.9 MB]\n",
            "Fetched 68.4 MB in 5s (14.0 MB/s)\n",
            "debconf: unable to initialize frontend: Dialog\n",
            "debconf: (No usable dialog-like program is installed, so the dialog based frontend cannot be used. at /usr/share/perl5/Debconf/FrontEnd/Dialog.pm line 76, <> line 24.)\n",
            "debconf: falling back to frontend: Readline\n",
            "debconf: unable to initialize frontend: Readline\n",
            "debconf: (This frontend requires a controlling tty.)\n",
            "debconf: falling back to frontend: Teletype\n",
            "dpkg-preconfigure: unable to re-open stdin: \n",
            "Selecting previously unselected package fonts-droid-fallback.\n",
            "(Reading database ... 144865 files and directories currently installed.)\n",
            "Preparing to unpack .../00-fonts-droid-fallback_1%3a6.0.1r16-1.1_all.deb ...\n",
            "Unpacking fonts-droid-fallback (1:6.0.1r16-1.1) ...\n",
            "Selecting previously unselected package poppler-data.\n",
            "Preparing to unpack .../01-poppler-data_0.4.8-2_all.deb ...\n",
            "Unpacking poppler-data (0.4.8-2) ...\n",
            "Selecting previously unselected package tex-common.\n",
            "Preparing to unpack .../02-tex-common_6.09_all.deb ...\n",
            "Unpacking tex-common (6.09) ...\n",
            "Selecting previously unselected package fonts-lmodern.\n",
            "Preparing to unpack .../03-fonts-lmodern_2.004.5-3_all.deb ...\n",
            "Unpacking fonts-lmodern (2.004.5-3) ...\n",
            "Selecting previously unselected package fonts-noto-mono.\n",
            "Preparing to unpack .../04-fonts-noto-mono_20171026-2_all.deb ...\n",
            "Unpacking fonts-noto-mono (20171026-2) ...\n",
            "Selecting previously unselected package libcupsfilters1:amd64.\n",
            "Preparing to unpack .../05-libcupsfilters1_1.20.2-0ubuntu3.1_amd64.deb ...\n",
            "Unpacking libcupsfilters1:amd64 (1.20.2-0ubuntu3.1) ...\n",
            "Selecting previously unselected package libcupsimage2:amd64.\n",
            "Preparing to unpack .../06-libcupsimage2_2.2.7-1ubuntu2.8_amd64.deb ...\n",
            "Unpacking libcupsimage2:amd64 (2.2.7-1ubuntu2.8) ...\n",
            "Selecting previously unselected package libijs-0.35:amd64.\n",
            "Preparing to unpack .../07-libijs-0.35_0.35-13_amd64.deb ...\n",
            "Unpacking libijs-0.35:amd64 (0.35-13) ...\n",
            "Selecting previously unselected package libjbig2dec0:amd64.\n",
            "Preparing to unpack .../08-libjbig2dec0_0.13-6_amd64.deb ...\n",
            "Unpacking libjbig2dec0:amd64 (0.13-6) ...\n",
            "Selecting previously unselected package libgs9-common.\n",
            "Preparing to unpack .../09-libgs9-common_9.26~dfsg+0-0ubuntu0.18.04.13_all.deb ...\n",
            "Unpacking libgs9-common (9.26~dfsg+0-0ubuntu0.18.04.13) ...\n",
            "Selecting previously unselected package libgs9:amd64.\n",
            "Preparing to unpack .../10-libgs9_9.26~dfsg+0-0ubuntu0.18.04.13_amd64.deb ...\n",
            "Unpacking libgs9:amd64 (9.26~dfsg+0-0ubuntu0.18.04.13) ...\n",
            "Selecting previously unselected package libkpathsea6:amd64.\n",
            "Preparing to unpack .../11-libkpathsea6_2017.20170613.44572-8ubuntu0.1_amd64.deb ...\n",
            "Unpacking libkpathsea6:amd64 (2017.20170613.44572-8ubuntu0.1) ...\n",
            "Selecting previously unselected package libpotrace0.\n",
            "Preparing to unpack .../12-libpotrace0_1.14-2_amd64.deb ...\n",
            "Unpacking libpotrace0 (1.14-2) ...\n",
            "Selecting previously unselected package libptexenc1:amd64.\n",
            "Preparing to unpack .../13-libptexenc1_2017.20170613.44572-8ubuntu0.1_amd64.deb ...\n",
            "Unpacking libptexenc1:amd64 (2017.20170613.44572-8ubuntu0.1) ...\n",
            "Selecting previously unselected package libsynctex1:amd64.\n",
            "Preparing to unpack .../14-libsynctex1_2017.20170613.44572-8ubuntu0.1_amd64.deb ...\n",
            "Unpacking libsynctex1:amd64 (2017.20170613.44572-8ubuntu0.1) ...\n",
            "Selecting previously unselected package libtexlua52:amd64.\n",
            "Preparing to unpack .../15-libtexlua52_2017.20170613.44572-8ubuntu0.1_amd64.deb ...\n",
            "Unpacking libtexlua52:amd64 (2017.20170613.44572-8ubuntu0.1) ...\n",
            "Selecting previously unselected package libtexluajit2:amd64.\n",
            "Preparing to unpack .../16-libtexluajit2_2017.20170613.44572-8ubuntu0.1_amd64.deb ...\n",
            "Unpacking libtexluajit2:amd64 (2017.20170613.44572-8ubuntu0.1) ...\n",
            "Selecting previously unselected package libzzip-0-13:amd64.\n",
            "Preparing to unpack .../17-libzzip-0-13_0.13.62-3.1ubuntu0.18.04.1_amd64.deb ...\n",
            "Unpacking libzzip-0-13:amd64 (0.13.62-3.1ubuntu0.18.04.1) ...\n",
            "Selecting previously unselected package lmodern.\n",
            "Preparing to unpack .../18-lmodern_2.004.5-3_all.deb ...\n",
            "Unpacking lmodern (2.004.5-3) ...\n",
            "Selecting previously unselected package t1utils.\n",
            "Preparing to unpack .../19-t1utils_1.41-2_amd64.deb ...\n",
            "Unpacking t1utils (1.41-2) ...\n",
            "Selecting previously unselected package texlive-binaries.\n",
            "Preparing to unpack .../20-texlive-binaries_2017.20170613.44572-8ubuntu0.1_amd64.deb ...\n",
            "Unpacking texlive-binaries (2017.20170613.44572-8ubuntu0.1) ...\n",
            "Selecting previously unselected package texlive-base.\n",
            "Preparing to unpack .../21-texlive-base_2017.20180305-1_all.deb ...\n",
            "Unpacking texlive-base (2017.20180305-1) ...\n",
            "Selecting previously unselected package texlive-latex-base.\n",
            "Preparing to unpack .../22-texlive-latex-base_2017.20180305-1_all.deb ...\n",
            "Unpacking texlive-latex-base (2017.20180305-1) ...\n",
            "Selecting previously unselected package texlive-latex-recommended.\n",
            "Preparing to unpack .../23-texlive-latex-recommended_2017.20180305-1_all.deb ...\n",
            "Unpacking texlive-latex-recommended (2017.20180305-1) ...\n",
            "Setting up libgs9-common (9.26~dfsg+0-0ubuntu0.18.04.13) ...\n",
            "Setting up libkpathsea6:amd64 (2017.20170613.44572-8ubuntu0.1) ...\n",
            "Setting up libtexlua52:amd64 (2017.20170613.44572-8ubuntu0.1) ...\n",
            "Setting up fonts-droid-fallback (1:6.0.1r16-1.1) ...\n",
            "Setting up libsynctex1:amd64 (2017.20170613.44572-8ubuntu0.1) ...\n",
            "Setting up libptexenc1:amd64 (2017.20170613.44572-8ubuntu0.1) ...\n",
            "Setting up tex-common (6.09) ...\n",
            "debconf: unable to initialize frontend: Dialog\n",
            "debconf: (No usable dialog-like program is installed, so the dialog based frontend cannot be used. at /usr/share/perl5/Debconf/FrontEnd/Dialog.pm line 76.)\n",
            "debconf: falling back to frontend: Readline\n",
            "update-language: texlive-base not installed and configured, doing nothing!\n",
            "Setting up poppler-data (0.4.8-2) ...\n",
            "Setting up fonts-noto-mono (20171026-2) ...\n",
            "Setting up libcupsfilters1:amd64 (1.20.2-0ubuntu3.1) ...\n",
            "Setting up libcupsimage2:amd64 (2.2.7-1ubuntu2.8) ...\n",
            "Setting up libjbig2dec0:amd64 (0.13-6) ...\n",
            "Setting up t1utils (1.41-2) ...\n",
            "Setting up libijs-0.35:amd64 (0.35-13) ...\n",
            "Setting up libpotrace0 (1.14-2) ...\n",
            "Setting up libzzip-0-13:amd64 (0.13.62-3.1ubuntu0.18.04.1) ...\n",
            "Setting up libgs9:amd64 (9.26~dfsg+0-0ubuntu0.18.04.13) ...\n",
            "Setting up libtexluajit2:amd64 (2017.20170613.44572-8ubuntu0.1) ...\n",
            "Setting up fonts-lmodern (2.004.5-3) ...\n",
            "Setting up texlive-binaries (2017.20170613.44572-8ubuntu0.1) ...\n",
            "update-alternatives: using /usr/bin/xdvi-xaw to provide /usr/bin/xdvi.bin (xdvi.bin) in auto mode\n",
            "update-alternatives: using /usr/bin/bibtex.original to provide /usr/bin/bibtex (bibtex) in auto mode\n",
            "Setting up texlive-base (2017.20180305-1) ...\n",
            "mktexlsr: Updating /var/lib/texmf/ls-R-TEXLIVEDIST... \n",
            "mktexlsr: Updating /var/lib/texmf/ls-R-TEXMFMAIN... \n",
            "mktexlsr: Updating /var/lib/texmf/ls-R... \n",
            "mktexlsr: Done.\n",
            "tl-paper: setting paper size for dvips to a4: /var/lib/texmf/dvips/config/config-paper.ps\n",
            "tl-paper: setting paper size for dvipdfmx to a4: /var/lib/texmf/dvipdfmx/dvipdfmx-paper.cfg\n",
            "tl-paper: setting paper size for xdvi to a4: /var/lib/texmf/xdvi/XDvi-paper\n",
            "tl-paper: setting paper size for pdftex to a4: /var/lib/texmf/tex/generic/config/pdftexconfig.tex\n",
            "debconf: unable to initialize frontend: Dialog\n",
            "debconf: (No usable dialog-like program is installed, so the dialog based frontend cannot be used. at /usr/share/perl5/Debconf/FrontEnd/Dialog.pm line 76.)\n",
            "debconf: falling back to frontend: Readline\n",
            "Setting up texlive-latex-base (2017.20180305-1) ...\n",
            "Setting up lmodern (2.004.5-3) ...\n",
            "Setting up texlive-latex-recommended (2017.20180305-1) ...\n",
            "Processing triggers for libc-bin (2.27-3ubuntu1.2) ...\n",
            "/sbin/ldconfig.real: /usr/local/lib/python3.6/dist-packages/ideep4py/lib/libmkldnn.so.0 is not a symbolic link\n",
            "\n",
            "Processing triggers for man-db (2.8.3-2ubuntu0.1) ...\n",
            "Processing triggers for fontconfig (2.12.6-0ubuntu2) ...\n",
            "Processing triggers for mime-support (3.60ubuntu1) ...\n",
            "Processing triggers for tex-common (6.09) ...\n",
            "debconf: unable to initialize frontend: Dialog\n",
            "debconf: (No usable dialog-like program is installed, so the dialog based frontend cannot be used. at /usr/share/perl5/Debconf/FrontEnd/Dialog.pm line 76.)\n",
            "debconf: falling back to frontend: Readline\n",
            "Running updmap-sys. This may take some time... done.\n",
            "Running mktexlsr /var/lib/texmf ... done.\n",
            "Building format(s) --all.\n",
            "\tThis may take some time... done.\n",
            "Reading package lists... Done\n",
            "Building dependency tree       \n",
            "Reading state information... Done\n",
            "The following additional packages will be installed:\n",
            "  fonts-lato fonts-texgyre ghostscript gsfonts javascript-common libjs-jquery\n",
            "  libruby2.5 preview-latex-style rake ruby ruby-did-you-mean ruby-minitest\n",
            "  ruby-net-telnet ruby-power-assert ruby-test-unit ruby2.5\n",
            "  rubygems-integration tex-gyre texlive-pictures texlive-plain-generic tipa\n",
            "Suggested packages:\n",
            "  ghostscript-x apache2 | lighttpd | httpd ri ruby-dev bundler\n",
            "  texlive-fonts-recommended-doc python-pygments icc-profiles\n",
            "  libfile-which-perl libspreadsheet-parseexcel-perl texlive-latex-extra-doc\n",
            "  dot2tex prerex ruby-tcltk | libtcltk-ruby texlive-pictures-doc vprerex\n",
            "The following NEW packages will be installed:\n",
            "  dvipng fonts-lato fonts-texgyre ghostscript gsfonts javascript-common\n",
            "  libjs-jquery libruby2.5 preview-latex-style rake ruby ruby-did-you-mean\n",
            "  ruby-minitest ruby-net-telnet ruby-power-assert ruby-test-unit ruby2.5\n",
            "  rubygems-integration tex-gyre texlive-fonts-recommended texlive-latex-extra\n",
            "  texlive-pictures texlive-plain-generic tipa\n",
            "0 upgraded, 24 newly installed, 0 to remove and 14 not upgraded.\n",
            "Need to get 69.8 MB of archives.\n",
            "After this operation, 221 MB of additional disk space will be used.\n",
            "Get:1 http://archive.ubuntu.com/ubuntu bionic/main amd64 fonts-lato all 2.0-2 [2,698 kB]\n",
            "Get:2 http://archive.ubuntu.com/ubuntu bionic-updates/main amd64 ghostscript amd64 9.26~dfsg+0-0ubuntu0.18.04.13 [51.0 kB]\n",
            "Get:3 http://archive.ubuntu.com/ubuntu bionic/universe amd64 dvipng amd64 1.15-1 [78.2 kB]\n",
            "Get:4 http://archive.ubuntu.com/ubuntu bionic/universe amd64 fonts-texgyre all 20160520-1 [8,761 kB]\n",
            "Get:5 http://archive.ubuntu.com/ubuntu bionic/main amd64 gsfonts all 1:8.11+urwcyr1.0.7~pre44-4.4 [3,120 kB]\n",
            "Get:6 http://archive.ubuntu.com/ubuntu bionic/main amd64 javascript-common all 11 [6,066 B]\n",
            "Get:7 http://archive.ubuntu.com/ubuntu bionic/main amd64 libjs-jquery all 3.2.1-1 [152 kB]\n",
            "Get:8 http://archive.ubuntu.com/ubuntu bionic/main amd64 rubygems-integration all 1.11 [4,994 B]\n",
            "Get:9 http://archive.ubuntu.com/ubuntu bionic-updates/main amd64 ruby2.5 amd64 2.5.1-1ubuntu1.7 [48.6 kB]\n",
            "Get:10 http://archive.ubuntu.com/ubuntu bionic/main amd64 ruby amd64 1:2.5.1 [5,712 B]\n",
            "Get:11 http://archive.ubuntu.com/ubuntu bionic-updates/main amd64 rake all 12.3.1-1ubuntu0.1 [44.9 kB]\n",
            "Get:12 http://archive.ubuntu.com/ubuntu bionic/main amd64 ruby-did-you-mean all 1.2.0-2 [9,700 B]\n",
            "Get:13 http://archive.ubuntu.com/ubuntu bionic/main amd64 ruby-minitest all 5.10.3-1 [38.6 kB]\n",
            "Get:14 http://archive.ubuntu.com/ubuntu bionic/main amd64 ruby-net-telnet all 0.1.1-2 [12.6 kB]\n",
            "Get:15 http://archive.ubuntu.com/ubuntu bionic/main amd64 ruby-power-assert all 0.3.0-1 [7,952 B]\n",
            "Get:16 http://archive.ubuntu.com/ubuntu bionic/main amd64 ruby-test-unit all 3.2.5-1 [61.1 kB]\n",
            "Get:17 http://archive.ubuntu.com/ubuntu bionic-updates/main amd64 libruby2.5 amd64 2.5.1-1ubuntu1.7 [3,068 kB]\n",
            "Get:18 http://archive.ubuntu.com/ubuntu bionic/main amd64 preview-latex-style all 11.91-1ubuntu1 [185 kB]\n",
            "Get:19 http://archive.ubuntu.com/ubuntu bionic/universe amd64 tex-gyre all 20160520-1 [4,998 kB]\n",
            "Get:20 http://archive.ubuntu.com/ubuntu bionic/universe amd64 texlive-fonts-recommended all 2017.20180305-1 [5,262 kB]\n",
            "Get:21 http://archive.ubuntu.com/ubuntu bionic/universe amd64 texlive-pictures all 2017.20180305-1 [4,026 kB]\n",
            "Get:22 http://archive.ubuntu.com/ubuntu bionic/universe amd64 texlive-latex-extra all 2017.20180305-2 [10.6 MB]\n",
            "Get:23 http://archive.ubuntu.com/ubuntu bionic/universe amd64 texlive-plain-generic all 2017.20180305-2 [23.6 MB]\n",
            "Get:24 http://archive.ubuntu.com/ubuntu bionic/universe amd64 tipa all 2:1.3-20 [2,978 kB]\n",
            "Fetched 69.8 MB in 5s (13.6 MB/s)\n",
            "debconf: unable to initialize frontend: Dialog\n",
            "debconf: (No usable dialog-like program is installed, so the dialog based frontend cannot be used. at /usr/share/perl5/Debconf/FrontEnd/Dialog.pm line 76, <> line 24.)\n",
            "debconf: falling back to frontend: Readline\n",
            "debconf: unable to initialize frontend: Readline\n",
            "debconf: (This frontend requires a controlling tty.)\n",
            "debconf: falling back to frontend: Teletype\n",
            "dpkg-preconfigure: unable to re-open stdin: \n",
            "Selecting previously unselected package fonts-lato.\n",
            "(Reading database ... 152199 files and directories currently installed.)\n",
            "Preparing to unpack .../00-fonts-lato_2.0-2_all.deb ...\n",
            "Unpacking fonts-lato (2.0-2) ...\n",
            "Selecting previously unselected package ghostscript.\n",
            "Preparing to unpack .../01-ghostscript_9.26~dfsg+0-0ubuntu0.18.04.13_amd64.deb ...\n",
            "Unpacking ghostscript (9.26~dfsg+0-0ubuntu0.18.04.13) ...\n",
            "Selecting previously unselected package dvipng.\n",
            "Preparing to unpack .../02-dvipng_1.15-1_amd64.deb ...\n",
            "Unpacking dvipng (1.15-1) ...\n",
            "Selecting previously unselected package fonts-texgyre.\n",
            "Preparing to unpack .../03-fonts-texgyre_20160520-1_all.deb ...\n",
            "Unpacking fonts-texgyre (20160520-1) ...\n",
            "Selecting previously unselected package gsfonts.\n",
            "Preparing to unpack .../04-gsfonts_1%3a8.11+urwcyr1.0.7~pre44-4.4_all.deb ...\n",
            "Unpacking gsfonts (1:8.11+urwcyr1.0.7~pre44-4.4) ...\n",
            "Selecting previously unselected package javascript-common.\n",
            "Preparing to unpack .../05-javascript-common_11_all.deb ...\n",
            "Unpacking javascript-common (11) ...\n",
            "Selecting previously unselected package libjs-jquery.\n",
            "Preparing to unpack .../06-libjs-jquery_3.2.1-1_all.deb ...\n",
            "Unpacking libjs-jquery (3.2.1-1) ...\n",
            "Selecting previously unselected package rubygems-integration.\n",
            "Preparing to unpack .../07-rubygems-integration_1.11_all.deb ...\n",
            "Unpacking rubygems-integration (1.11) ...\n",
            "Selecting previously unselected package ruby2.5.\n",
            "Preparing to unpack .../08-ruby2.5_2.5.1-1ubuntu1.7_amd64.deb ...\n",
            "Unpacking ruby2.5 (2.5.1-1ubuntu1.7) ...\n",
            "Selecting previously unselected package ruby.\n",
            "Preparing to unpack .../09-ruby_1%3a2.5.1_amd64.deb ...\n",
            "Unpacking ruby (1:2.5.1) ...\n",
            "Selecting previously unselected package rake.\n",
            "Preparing to unpack .../10-rake_12.3.1-1ubuntu0.1_all.deb ...\n",
            "Unpacking rake (12.3.1-1ubuntu0.1) ...\n",
            "Selecting previously unselected package ruby-did-you-mean.\n",
            "Preparing to unpack .../11-ruby-did-you-mean_1.2.0-2_all.deb ...\n",
            "Unpacking ruby-did-you-mean (1.2.0-2) ...\n",
            "Selecting previously unselected package ruby-minitest.\n",
            "Preparing to unpack .../12-ruby-minitest_5.10.3-1_all.deb ...\n",
            "Unpacking ruby-minitest (5.10.3-1) ...\n",
            "Selecting previously unselected package ruby-net-telnet.\n",
            "Preparing to unpack .../13-ruby-net-telnet_0.1.1-2_all.deb ...\n",
            "Unpacking ruby-net-telnet (0.1.1-2) ...\n",
            "Selecting previously unselected package ruby-power-assert.\n",
            "Preparing to unpack .../14-ruby-power-assert_0.3.0-1_all.deb ...\n",
            "Unpacking ruby-power-assert (0.3.0-1) ...\n",
            "Selecting previously unselected package ruby-test-unit.\n",
            "Preparing to unpack .../15-ruby-test-unit_3.2.5-1_all.deb ...\n",
            "Unpacking ruby-test-unit (3.2.5-1) ...\n",
            "Selecting previously unselected package libruby2.5:amd64.\n",
            "Preparing to unpack .../16-libruby2.5_2.5.1-1ubuntu1.7_amd64.deb ...\n",
            "Unpacking libruby2.5:amd64 (2.5.1-1ubuntu1.7) ...\n",
            "Selecting previously unselected package preview-latex-style.\n",
            "Preparing to unpack .../17-preview-latex-style_11.91-1ubuntu1_all.deb ...\n",
            "Unpacking preview-latex-style (11.91-1ubuntu1) ...\n",
            "Selecting previously unselected package tex-gyre.\n",
            "Preparing to unpack .../18-tex-gyre_20160520-1_all.deb ...\n",
            "Unpacking tex-gyre (20160520-1) ...\n",
            "Selecting previously unselected package texlive-fonts-recommended.\n",
            "Preparing to unpack .../19-texlive-fonts-recommended_2017.20180305-1_all.deb ...\n",
            "Unpacking texlive-fonts-recommended (2017.20180305-1) ...\n",
            "Selecting previously unselected package texlive-pictures.\n",
            "Preparing to unpack .../20-texlive-pictures_2017.20180305-1_all.deb ...\n",
            "Unpacking texlive-pictures (2017.20180305-1) ...\n",
            "Selecting previously unselected package texlive-latex-extra.\n",
            "Preparing to unpack .../21-texlive-latex-extra_2017.20180305-2_all.deb ...\n",
            "Unpacking texlive-latex-extra (2017.20180305-2) ...\n",
            "Selecting previously unselected package texlive-plain-generic.\n",
            "Preparing to unpack .../22-texlive-plain-generic_2017.20180305-2_all.deb ...\n",
            "Unpacking texlive-plain-generic (2017.20180305-2) ...\n",
            "Selecting previously unselected package tipa.\n",
            "Preparing to unpack .../23-tipa_2%3a1.3-20_all.deb ...\n",
            "Unpacking tipa (2:1.3-20) ...\n",
            "Setting up libjs-jquery (3.2.1-1) ...\n",
            "Setting up gsfonts (1:8.11+urwcyr1.0.7~pre44-4.4) ...\n",
            "Setting up texlive-pictures (2017.20180305-1) ...\n",
            "Setting up tex-gyre (20160520-1) ...\n",
            "Setting up tipa (2:1.3-20) ...\n",
            "Regenerating '/var/lib/texmf/fmtutil.cnf-DEBIAN'... done.\n",
            "Regenerating '/var/lib/texmf/fmtutil.cnf-TEXLIVEDIST'... done.\n",
            "update-fmtutil has updated the following file(s):\n",
            "\t/var/lib/texmf/fmtutil.cnf-DEBIAN\n",
            "\t/var/lib/texmf/fmtutil.cnf-TEXLIVEDIST\n",
            "If you want to activate the changes in the above file(s),\n",
            "you should run fmtutil-sys or fmtutil.\n",
            "Setting up preview-latex-style (11.91-1ubuntu1) ...\n",
            "Setting up ghostscript (9.26~dfsg+0-0ubuntu0.18.04.13) ...\n",
            "Setting up fonts-texgyre (20160520-1) ...\n",
            "Setting up fonts-lato (2.0-2) ...\n",
            "Setting up ruby-did-you-mean (1.2.0-2) ...\n",
            "Setting up ruby-net-telnet (0.1.1-2) ...\n",
            "Setting up rubygems-integration (1.11) ...\n",
            "Setting up javascript-common (11) ...\n",
            "Setting up texlive-fonts-recommended (2017.20180305-1) ...\n",
            "Setting up texlive-plain-generic (2017.20180305-2) ...\n",
            "Setting up ruby-minitest (5.10.3-1) ...\n",
            "Setting up ruby-power-assert (0.3.0-1) ...\n",
            "Setting up texlive-latex-extra (2017.20180305-2) ...\n",
            "Setting up dvipng (1.15-1) ...\n",
            "Setting up rake (12.3.1-1ubuntu0.1) ...\n",
            "Setting up ruby2.5 (2.5.1-1ubuntu1.7) ...\n",
            "Setting up ruby (1:2.5.1) ...\n",
            "Setting up ruby-test-unit (3.2.5-1) ...\n",
            "Setting up libruby2.5:amd64 (2.5.1-1ubuntu1.7) ...\n",
            "Processing triggers for tex-common (6.09) ...\n",
            "debconf: unable to initialize frontend: Dialog\n",
            "debconf: (No usable dialog-like program is installed, so the dialog based frontend cannot be used. at /usr/share/perl5/Debconf/FrontEnd/Dialog.pm line 76.)\n",
            "debconf: falling back to frontend: Readline\n",
            "Running mktexlsr. This may take some time... done.\n",
            "Running updmap-sys. This may take some time... done.\n",
            "Running mktexlsr /var/lib/texmf ... done.\n",
            "Processing triggers for libc-bin (2.27-3ubuntu1.2) ...\n",
            "/sbin/ldconfig.real: /usr/local/lib/python3.6/dist-packages/ideep4py/lib/libmkldnn.so.0 is not a symbolic link\n",
            "\n",
            "Processing triggers for man-db (2.8.3-2ubuntu0.1) ...\n",
            "Processing triggers for fontconfig (2.12.6-0ubuntu2) ...\n",
            "--2020-12-15 23:04:23--  http://mirrors.ctan.org/macros/latex/contrib/type1cm.zip\n",
            "Resolving mirrors.ctan.org (mirrors.ctan.org)... 5.35.249.60\n",
            "Connecting to mirrors.ctan.org (mirrors.ctan.org)|5.35.249.60|:80... connected.\n",
            "HTTP request sent, awaiting response... 302 Found\n",
            "Location: https://mirrors.concertpass.com/tex-archive/macros/latex/contrib/type1cm.zip [following]\n",
            "--2020-12-15 23:04:25--  https://mirrors.concertpass.com/tex-archive/macros/latex/contrib/type1cm.zip\n",
            "Resolving mirrors.concertpass.com (mirrors.concertpass.com)... 162.219.248.112\n",
            "Connecting to mirrors.concertpass.com (mirrors.concertpass.com)|162.219.248.112|:443... connected.\n",
            "HTTP request sent, awaiting response... 200 OK\n",
            "Length: 328566 (321K) [application/zip]\n",
            "Saving to: ‘type1cm.zip’\n",
            "\n",
            "type1cm.zip         100%[===================>] 320.87K  --.-KB/s    in 0.08s   \n",
            "\n",
            "2020-12-15 23:04:25 (3.88 MB/s) - ‘type1cm.zip’ saved [328566/328566]\n",
            "\n",
            "Archive:  type1cm.zip\n",
            "   creating: /tmp/type1cm/type1cm/\n",
            "  inflating: /tmp/type1cm/type1cm/type1cm.fdd  \n",
            "  inflating: /tmp/type1cm/type1cm/type1cm.ins  \n",
            "  inflating: /tmp/type1cm/type1cm/type1cm.txt  \n",
            "  inflating: /tmp/type1cm/type1cm/type1cm-doc.pdf  \n",
            "  inflating: /tmp/type1cm/type1cm/type1cm-doc.tex  \n",
            "This is pdfTeX, Version 3.14159265-2.6-1.40.18 (TeX Live 2017/Debian) (preloaded format=latex)\n",
            " restricted \\write18 enabled.\n",
            "entering extended mode\n",
            "(./type1cm.ins\n",
            "LaTeX2e <2017-04-15>\n",
            "Babel <3.18> and hyphenation patterns for 3 language(s) loaded.\n",
            "(/usr/share/texlive/texmf-dist/tex/latex/base/docstrip.tex\n",
            "Utility: `docstrip' 2.5e <2014/09/29>\n",
            "English documentation    <2017/03/13>\n",
            "\n",
            "**********************************************************\n",
            "* This program converts documented macro-files into fast *\n",
            "* loadable files by stripping off (nearly) all comments! *\n",
            "**********************************************************\n",
            "\n",
            "********************************************************\n",
            "* No Configuration file found, using default settings. *\n",
            "********************************************************\n",
            "\n",
            "(./type1cm.ins\n",
            "\n",
            "Generating file(s) ./type1cm.sty \n",
            "\n",
            "Processing file type1cm.fdd (package,ams) -> type1cm.sty\n",
            "Lines  processed: 410\n",
            "Comments removed: 25\n",
            "Comments  passed: 7\n",
            "Codelines passed: 263\n",
            "\n",
            ") ) )\n",
            "No pages of output.\n",
            "Transcript written on type1cm.log.\n",
            "texhash: Updating /usr/local/share/texmf/ls-R... \n",
            "texhash: Updating /var/lib/texmf/ls-R-TEXLIVEDIST... \n",
            "texhash: Updating /var/lib/texmf/ls-R-TEXMFMAIN... \n",
            "texhash: Updating /var/lib/texmf/ls-R... \n",
            "texhash: Done.\n"
          ],
          "name": "stdout"
        }
      ]
    },
    {
      "cell_type": "code",
      "metadata": {
        "colab": {
          "base_uri": "https://localhost:8080/"
        },
        "id": "olfNOl9NMdkC",
        "outputId": "1ce1f8e6-26bc-4e3c-9a05-b1c601248079"
      },
      "source": [
        "!apt install cm-super"
      ],
      "execution_count": null,
      "outputs": [
        {
          "output_type": "stream",
          "text": [
            "Reading package lists... Done\n",
            "Building dependency tree       \n",
            "Reading state information... Done\n",
            "The following additional packages will be installed:\n",
            "  cm-super-minimal pfb2t1c2pfb\n",
            "The following NEW packages will be installed:\n",
            "  cm-super cm-super-minimal pfb2t1c2pfb\n",
            "0 upgraded, 3 newly installed, 0 to remove and 14 not upgraded.\n",
            "Need to get 24.5 MB of archives.\n",
            "After this operation, 59.9 MB of additional disk space will be used.\n",
            "Get:1 http://archive.ubuntu.com/ubuntu bionic/universe amd64 cm-super-minimal all 0.3.4-11 [5,810 kB]\n",
            "Get:2 http://archive.ubuntu.com/ubuntu bionic/universe amd64 pfb2t1c2pfb amd64 0.3-11 [9,342 B]\n",
            "Get:3 http://archive.ubuntu.com/ubuntu bionic/universe amd64 cm-super all 0.3.4-11 [18.7 MB]\n",
            "Fetched 24.5 MB in 3s (9,164 kB/s)\n",
            "Selecting previously unselected package cm-super-minimal.\n",
            "(Reading database ... 170743 files and directories currently installed.)\n",
            "Preparing to unpack .../cm-super-minimal_0.3.4-11_all.deb ...\n",
            "Unpacking cm-super-minimal (0.3.4-11) ...\n",
            "Selecting previously unselected package pfb2t1c2pfb.\n",
            "Preparing to unpack .../pfb2t1c2pfb_0.3-11_amd64.deb ...\n",
            "Unpacking pfb2t1c2pfb (0.3-11) ...\n",
            "Selecting previously unselected package cm-super.\n",
            "Preparing to unpack .../cm-super_0.3.4-11_all.deb ...\n",
            "Unpacking cm-super (0.3.4-11) ...\n",
            "Setting up pfb2t1c2pfb (0.3-11) ...\n",
            "Setting up cm-super-minimal (0.3.4-11) ...\n",
            "Setting up cm-super (0.3.4-11) ...\n",
            "Creating fonts. This may take some time... done.\n",
            "Processing triggers for fontconfig (2.12.6-0ubuntu2) ...\n",
            "Processing triggers for tex-common (6.09) ...\n",
            "Running mktexlsr. This may take some time... done.\n",
            "Running updmap-sys. This may take some time... done.\n",
            "Running mktexlsr /var/lib/texmf ... done.\n",
            "Processing triggers for man-db (2.8.3-2ubuntu0.1) ...\n"
          ],
          "name": "stdout"
        }
      ]
    },
    {
      "cell_type": "code",
      "metadata": {
        "colab": {
          "base_uri": "https://localhost:8080/",
          "height": 427
        },
        "id": "wGGegizYPajz",
        "outputId": "d472113b-eb99-4a37-d2c5-4b2da296c1ca"
      },
      "source": [
        "import matplotlib.pyplot as plt\r\n",
        "import latex\r\n",
        "\r\n",
        "plt.figure(figsize=(10,6))\r\n",
        "plt.rc(\"text\", usetex=True)\r\n",
        "\r\n",
        "plt.semilogy(SNR_array, Pr_error, label=\"NNLS, T=2\")\r\n",
        "plt.semilogy(SNR_array, np.reshape(Pr_error_nnls_T3, (1,np.product(Pr_error_nnls_T3.shape)))[0],label=\"NNLS, T=3\")\r\n",
        "plt.semilogy(SNR_array, np.reshape(Pr_error_nnls_T4, (1,np.product(Pr_error_nnls_T4.shape)))[0],label=\"NNLS, T=4\")\r\n",
        "plt.semilogy(SNR_array, np.reshape(Pr_error_qr, (1, np.product(Pr_error_qr.shape)))[0], label=\"QR, T=2\")\r\n",
        "plt.semilogy(SNR_array, np.reshape(Pr_error_qr_T3, (1,np.product(Pr_error_qr_T3.shape)))[0],label=\"QR, T=3\")\r\n",
        "plt.semilogy(SNR_array, np.reshape(Pr_error_qr_T4, (1,np.product(Pr_error_qr_T4.shape)))[0],label=\"QR, T=4\")\r\n",
        "\r\n",
        "\r\n",
        "plt.title(r\"QR vs NNLS\")\r\n",
        "plt.xlabel(r\"SNR\", fontsize=24)\r\n",
        "plt.ylabel(r\"Error probability\", fontsize=24)\r\n",
        "plt.xticks(fontsize=26)\r\n",
        "plt.yticks(fontsize=26)\r\n",
        "plt.legend(loc=3,fontsize='x-large')\r\n",
        "plt.grid()\r\n",
        "plt.show()\r\n"
      ],
      "execution_count": null,
      "outputs": [
        {
          "output_type": "display_data",
          "data": {
            "image/png": "[encoded data removed]",
            "text/plain": [
              "<Figure size 720x432 with 1 Axes>"
            ]
          },
          "metadata": {
            "tags": [],
            "needs_background": "light"
          }
        }
      ]
    },
    {
      "cell_type": "code",
      "metadata": {
        "colab": {
          "base_uri": "https://localhost:8080/",
          "height": 427
        },
        "id": "2DhKIE0PotJ1",
        "outputId": "2b7b8928-d014-45f1-cb19-c5dcfda0d4f5"
      },
      "source": [
        "import matplotlib.pyplot as plt\r\n",
        "\r\n",
        "plt.figure(figsize=(10,6))\r\n",
        "plt.rc(\"text\", usetex=True)\r\n",
        "\r\n",
        "plt.semilogy(SNR_array, Pr_error, label=\"NNLS, T=2\")\r\n",
        "plt.semilogy(SNR_array, Pr_error_ls,label=\"nonlinear LS with bounds\")\r\n",
        "plt.semilogy(SNR_array, Pr_error_bv,label=\"BVLS\")\r\n",
        "plt.semilogy(SNR_array, np.reshape(Pr_error_qr, (1,np.product(Pr_error_qr.shape)))[0],label=\"QR\")\r\n",
        "\r\n",
        "\r\n",
        "plt.title(r\"All methods comparison\")\r\n",
        "plt.xlabel(r\"SNR\", fontsize=24)\r\n",
        "plt.ylabel(r\"Error probability\", fontsize=24)\r\n",
        "plt.xticks(fontsize=26)\r\n",
        "plt.yticks(fontsize=26)\r\n",
        "plt.legend(loc=3,fontsize='x-large')\r\n",
        "plt.grid()\r\n",
        "plt.show()"
      ],
      "execution_count": null,
      "outputs": [
        {
          "output_type": "display_data",
          "data": {
            "image/png": "[encoded data removed]",
            "text/plain": [
              "<Figure size 720x432 with 1 Axes>"
            ]
          },
          "metadata": {
            "tags": [],
            "needs_background": "light"
          }
        }
      ]
    },
    {
      "cell_type": "markdown",
      "metadata": {
        "id": "AaeQDtVSD187"
      },
      "source": [
        "## 5. Time estimation"
      ]
    },
    {
      "cell_type": "code",
      "metadata": {
        "colab": {
          "base_uri": "https://localhost:8080/"
        },
        "id": "xt04NlieIJX1",
        "outputId": "749c2099-e2a7-4b2c-f387-12d5afb0ef86"
      },
      "source": [
        "%timeit Q, R = np.linalg.qr(A); np.linalg.pinv(R) @ np.conj(Q.T) @ y"
      ],
      "execution_count": null,
      "outputs": [
        {
          "output_type": "stream",
          "text": [
            "100 loops, best of 3: 5.64 ms per loop\n"
          ],
          "name": "stdout"
        }
      ]
    },
    {
      "cell_type": "code",
      "metadata": {
        "colab": {
          "base_uri": "https://localhost:8080/"
        },
        "id": "xrHohBRVIJOA",
        "outputId": "8df9d702-1926-471c-bd0b-7164575dba8c"
      },
      "source": [
        "%timeit nnls(A,y)"
      ],
      "execution_count": null,
      "outputs": [
        {
          "output_type": "stream",
          "text": [
            "100 loops, best of 3: 3.28 ms per loop\n"
          ],
          "name": "stdout"
        }
      ]
    },
    {
      "cell_type": "code",
      "metadata": {
        "colab": {
          "base_uri": "https://localhost:8080/"
        },
        "id": "Q5eD8VaSIJGI",
        "outputId": "e7b5d3aa-2a8e-4a98-f269-53bc249af74e"
      },
      "source": [
        "%timeit least_squares(leastsq, x0, bounds=(0,1))"
      ],
      "execution_count": null,
      "outputs": [
        {
          "output_type": "stream",
          "text": [
            "1 loop, best of 3: 13 s per loop\n"
          ],
          "name": "stdout"
        }
      ]
    },
    {
      "cell_type": "code",
      "metadata": {
        "id": "IYqXuDyrII54"
      },
      "source": [
        "time_nnls = []\n",
        "time_bvls = []\n",
        "time_cs = []\n",
        "time_qr = []\n",
        "time_ls = []\n",
        "for i in np.arange(len(sigma_array)):\n",
        "    Mp=1024\n",
        "    b = np.zeros((Mp,1))\n",
        "    perm = np.random.permutation(Mp)[:T] # indexes of transmitted messages\n",
        "    b[perm,0] = 1\n",
        "    sigma = sigma_array[i]\n",
        "    y = A@b + np.array([np.random.normal(loc=0.0, scale=sigma*sigma, size=A.shape[0])]).T\n",
        "    y = np.reshape(y, (1,np.product(y.shape)))[0]\n",
        "    \n",
        "    D = dct(A)\n",
        "    x0=np.ones(1024)\n",
        "    t1 = %timeit -o -q idct(lasso.fit(D, y).coef_, axis=0)\n",
        "    time_cs.append(t1.average)\n",
        "    t2 = %timeit -o -q lsq_linear(A, y, bounds=[0,1], method='bvls')\n",
        "    time_bvls.append(t2.average)\n",
        "    t3 = %timeit -o -q np.array([nnls(A,y)],dtype=object)[0,0]\n",
        "    time_nnls.append(t3.average)\n",
        "    t4 = %timeit -o -q Q, R = np.linalg.qr(A, mode=\"complete\")\n",
        "    t5 = %timeit -o -q np.linalg.pinv(R) @ np.conj(Q.T) @ y \n",
        "    time_qr.append(t4.average + t5.average)\n",
        "    t6 = %timeit -o -q least_squares(leastsq,x0, bounds=(0,1))\n",
        "    time_ls.append(t6.average)\n",
        "    "
      ],
      "execution_count": null,
      "outputs": []
    },
    {
      "cell_type": "code",
      "metadata": {
        "id": "Xk3PxTr1VSiK"
      },
      "source": [
        "plt.figure(figsize=(10,6)) #plot working time for matrix A with shape (35, 1024)\n",
        "plt.rc(\"text\", usetex=True)\n",
        "\n",
        "plt.semilogy(SNR_array, time_ls, label=\"LS with bounds\")\n",
        "# plt.semilogy(SNR_array, time_cs, label=\"Compressed sensing\")\n",
        "plt.semilogy(SNR_array, time_nnls, label=\"NNLS\")\n",
        "plt.semilogy(SNR_array, time_bvls, label=\"BVLS\")\n",
        "plt.semilogy(SNR_array, time_qr, label=\"QR\")\n",
        "\n",
        "plt.grid()\n",
        "plt.title(r\"For A with shape (35, 1024)\", fontsize=24)\n",
        "plt.ylabel(r\"Average time\", fontsize=24)\n",
        "plt.xlabel(r\"SNR\", fontsize=24)\n",
        "plt.xticks(fontsize=26)\n",
        "plt.yticks(fontsize=26)\n",
        "plt.legend(loc=4,fontsize='large')\n",
        "plt.savefig(\"Time_long.png\")"
      ],
      "execution_count": null,
      "outputs": []
    },
    {
      "cell_type": "code",
      "metadata": {
        "id": "egxrReJiU-Tg"
      },
      "source": [
        "time_nnls = []\n",
        "time_bvls = []\n",
        "time_cs = []\n",
        "time_qr = []\n",
        "time_ls = []\n",
        "for i in np.arange(len(sigma_array)):\n",
        "    Mp = A_new.shape[1]\n",
        "    A = A_new\n",
        "    b = np.zeros((Mp,1))\n",
        "    perm = np.random.permutation(Mp)[:T] # indexes of transmitted messages\n",
        "    b[perm,0] = 1\n",
        "    sigma = sigma_array[i]\n",
        "    y = A@b + np.array([np.random.normal(loc=0.0, scale=sigma*sigma, size=A.shape[0])]).T\n",
        "    y = np.reshape(y, (1,np.product(y.shape)))[0]\n",
        "    \n",
        "    D = dct(A)\n",
        "    x0=np.ones(60)\n",
        "    t1 = %timeit -o -q idct(lasso.fit(D, y).coef_, axis=0)\n",
        "    time_cs.append(t1.average)\n",
        "    t2 = %timeit -o -q lsq_linear(A, y, bounds=[0,1], method='bvls')\n",
        "    time_bvls.append(t2.average)\n",
        "    t3 = %timeit -o -q np.array([nnls(A,y)],dtype=object)[0,0]\n",
        "    time_nnls.append(t3.average)\n",
        "    t4 = %timeit -o -q Q, R = np.linalg.qr(A, mode=\"complete\")\n",
        "    t5 = %timeit -o -q np.linalg.pinv(R) @ np.conj(Q.T) @ y \n",
        "    time_qr.append(t4.average + t5.average)\n",
        "    t6 = %timeit -o -q least_squares(leastsq,x0, bounds=(0,1))\n",
        "    time_ls.append(t6.average)"
      ],
      "execution_count": null,
      "outputs": []
    },
    {
      "cell_type": "code",
      "metadata": {
        "id": "GU5_nU9xU-X6"
      },
      "source": [
        "plt.figure(figsize=(10,6)) #plot working time for matrix A with shape (35, 60)\n",
        "plt.rc(\"text\", usetex=True)\n",
        "\n",
        "plt.semilogy(SNR_array, time_ls, label=\"LS with bounds\")\n",
        "plt.semilogy(SNR_array, time_qr, label=\"QR\")\n",
        "plt.semilogy(SNR_array, time_cs, label=\"Compressed sensing\")\n",
        "plt.semilogy(SNR_array, time_bvls, label=\"BVLS\")\n",
        "plt.semilogy(SNR_array, time_nnls, label=\"NNLS\")\n",
        "\n",
        "plt.grid()\n",
        "plt.title(r\"For A with shape (35, 60)\", fontsize=24)\n",
        "plt.ylabel(r\"Average time\", fontsize=24)\n",
        "plt.xlabel(r\"SNR\", fontsize=24)\n",
        "plt.xticks(fontsize=26)\n",
        "plt.yticks(fontsize=26)\n",
        "plt.legend(loc=4,fontsize='large')\n",
        "plt.savefig(\"Time_short.png\")"
      ],
      "execution_count": null,
      "outputs": []
    },
    {
      "cell_type": "code",
      "metadata": {
        "id": "xZoxLDHAU_mJ"
      },
      "source": [
        ""
      ],
      "execution_count": null,
      "outputs": []
    }
  ]
}